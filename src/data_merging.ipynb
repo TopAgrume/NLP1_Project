{
 "cells": [
  {
   "cell_type": "markdown",
   "metadata": {},
   "source": [
    "#### TODO :\n",
    "- lowercase ?\n",
    "- remove some punctation ?\n",
    "- remove newlines ? (loss of structure)\n",
    "- remove poem with length < n"
   ]
  },
  {
   "cell_type": "code",
   "execution_count": 67,
   "metadata": {},
   "outputs": [],
   "source": [
    "import pandas as pd\n",
    "import os\n",
    "import numpy as np\n",
    "import matplotlib.pyplot as plt"
   ]
  },
  {
   "cell_type": "markdown",
   "metadata": {},
   "source": [
    "#### PoetryFoundationData.csv\n",
    "---\n",
    "This one looks good but might need to remove duplicate of \\r and \\n."
   ]
  },
  {
   "cell_type": "code",
   "execution_count": 46,
   "metadata": {},
   "outputs": [
    {
     "name": "stdout",
     "output_type": "stream",
     "text": [
      "\n"
     ]
    }
   ],
   "source": [
    "# PoetryFoundationData.csv\n",
    "df_PoetryFoundationData = pd.read_csv(\"../data_raw/PoetryFoundationData.csv\")\n",
    "\n",
    "df_PoetryFoundationData.drop(columns=[\"Title\", \"Poet\", \"Unnamed: 0\"], inplace=True)\n",
    "\n",
    "df_PoetryFoundationData.rename(columns={\"Poem\": \"poem\", \"Tags\": \"labels\"}, inplace=True)\n",
    "\n",
    "df_PoetryFoundationData = df_PoetryFoundationData[df_PoetryFoundationData[\"poem\"].str.len() > 30]\n",
    "df_PoetryFoundationData = df_PoetryFoundationData[~df_PoetryFoundationData[\"poem\"].str.contains(\"Dear Writers\")]\n",
    "df_PoetryFoundationData.reset_index(inplace=True, drop=True)\n",
    "\n",
    "df_PoetryFoundationData_classification = df_PoetryFoundationData.dropna(ignore_index=True)\n",
    "\n",
    "df_PoetryFoundationData_generation = df_PoetryFoundationData.drop(columns=[\"labels\"])"
   ]
  },
  {
   "cell_type": "code",
   "execution_count": 159,
   "metadata": {},
   "outputs": [
    {
     "name": "stdout",
     "output_type": "stream",
     "text": [
      "\n",
      "The old cupola glinted above the clouds, shone\n",
      "among fir trees, but it took him an hour\n",
      "for the half mile all the way up the hill. As he trailed,\n",
      "the village passed him by, greeted him,\n",
      "asked about his health, but everybody hurried\n",
      "to catch the mass, left him leaning against fences,\n",
      "measuring the road with the walking stick he sculpted.\n",
      "He yearned for the day when the new church\n",
      "would be built—right across the road. Now\n",
      "it rises above the moon: saints in frescoes\n",
      "meet the eye, and only the rain has started to cut\n",
      "through the shingles on the roof of his empty\n",
      "house. The apple trees have taken over the sky,\n",
      "sequestered the gate, sidled over the porch.\n",
      "\n"
     ]
    },
    {
     "data": {
      "text/plain": [
       "'\\r\\r\\nThe old cupola glinted above the clouds, shone\\r\\r\\namong fir trees, but it took him an hour\\r\\r\\nfor the half mile all the way up the hill. As he trailed,\\r\\r\\nthe village passed him by, greeted him,\\r\\r\\nasked about his health, but everybody hurried\\r\\r\\nto catch the mass, left him leaning against fences,\\r\\r\\nmeasuring the road with the walking stick he sculpted.\\r\\r\\nHe yearned for the day when the new church\\r\\r\\nwould be built—right across the road. Now\\r\\r\\nit rises above the moon: saints in frescoes\\r\\r\\nmeet the eye, and only the rain has started to cut\\r\\r\\nthrough the shingles on the roof of his empty\\r\\r\\nhouse. The apple trees have taken over the sky,\\r\\r\\nsequestered the gate, sidled over the porch.\\r\\r\\n'"
      ]
     },
     "execution_count": 159,
     "metadata": {},
     "output_type": "execute_result"
    }
   ],
   "source": [
    "print(df_PoetryFoundationData_generation.iloc[1][\"poem\"])\n",
    "df_PoetryFoundationData_generation.iloc[1][\"poem\"]"
   ]
  },
  {
   "cell_type": "markdown",
   "metadata": {},
   "source": [
    "#### kaggle_poem_dataset.csv\n",
    "---\n",
    "This one looks good like that."
   ]
  },
  {
   "cell_type": "code",
   "execution_count": 65,
   "metadata": {},
   "outputs": [],
   "source": [
    "df_kaggle_poem_dataset = pd.read_csv(\"../data_raw/kaggle_poem_dataset.csv\")\n",
    "\n",
    "df_kaggle_poem_dataset.drop(columns=[\"Unnamed: 0\", \"Author\", \"Title\", \"Poetry Foundation ID\"], inplace=True)\n",
    "\n",
    "df_kaggle_poem_dataset.rename(columns={\"Content\": \"poem\"}, inplace=True)"
   ]
  },
  {
   "cell_type": "code",
   "execution_count": 151,
   "metadata": {},
   "outputs": [
    {
     "name": "stdout",
     "output_type": "stream",
     "text": [
      "It’s too cold to smoke outside, but if you come over,\n",
      "I’ll keep my hands to myself, or won’t I.\n",
      "I would like to tell you about the wall eaten up\n",
      "\n",
      "by the climbing plant—it was so beautiful.\n",
      "Various things have been happening to me,\n",
      "all of them sexual. The man on the bus\n",
      "\n",
      "took off his pants so I could see him better.\n",
      "Another man said, “Ignore him darlin’.\n",
      "Just sit on my lap.” But I’m not one of those\n",
      "\n",
      "who’s hungriest in the morning,\n",
      "unlike the man at the bakery\n",
      "who eats egg after egg after egg.\n",
      "\n",
      "Listen. Come over: the cold has already eaten\n",
      "the summer. I need another pair of ears:\n",
      "from the kitchen I can’t tell if I’m hearing wind chimes\n",
      "\n",
      "or some gray woman with failing arms\n",
      "dropping a pan full of onions and potatoes.\n",
      "This morning I need four hands—\n",
      "\n",
      "two to wash the greens, one to lift a teakettle,\n",
      "one to pour the milk. This morning, one little mouth\n",
      "will not do. We could play a game\n",
      "\n",
      "where we crouch on the tiles, two yellow dogs\n",
      "drinking coffee from bowls. We could play a game\n",
      "where we let the breakfast burn.\n",
      "\n",
      "Outside there’s a world where every love scene\n",
      "begins with a man in a doorway;\n",
      "he walks over to the woman and says “Open your mouth.”\n"
     ]
    }
   ],
   "source": [
    "print(df_kaggle_poem_dataset.iloc[len(df_kaggle_poem_dataset) - 5][\"poem\"])"
   ]
  },
  {
   "cell_type": "markdown",
   "metadata": {},
   "source": [
    "#### topics folder\n",
    "---\n",
    "Last line may not be useful, but not on all data points."
   ]
  },
  {
   "cell_type": "code",
   "execution_count": 79,
   "metadata": {},
   "outputs": [],
   "source": [
    "topics = os.listdir(\"../data_raw/topics\")\n",
    "df_topics_list = []\n",
    "for topic in topics:\n",
    "    files = os.listdir(f\"../data_raw/topics/{topic}\")\n",
    "    df_topic = pd.DataFrame(columns=[\"poem\", \"labels\"])\n",
    "    i = 0\n",
    "    for filename in files:\n",
    "        with open(f\"../data_raw/topics/{topic}/{filename}\", encoding=\"utf8\") as f:\n",
    "            df_topic.loc[i] = {\"poem\": f.read(), \"labels\": topic}\n",
    "        i += 1\n",
    "    df_topics_list.append(df_topic)"
   ]
  },
  {
   "cell_type": "code",
   "execution_count": 98,
   "metadata": {},
   "outputs": [],
   "source": [
    "df_topics = pd.concat(df_topics_list, ignore_index=True)"
   ]
  },
  {
   "cell_type": "code",
   "execution_count": 100,
   "metadata": {},
   "outputs": [],
   "source": [
    "df_topics_generation = df_topics.drop(columns=[\"labels\"])"
   ]
  },
  {
   "cell_type": "code",
   "execution_count": 140,
   "metadata": {},
   "outputs": [
    {
     "name": "stdout",
     "output_type": "stream",
     "text": [
      "It's great to live in a country big and strong\n",
      "It doesn't matter if you are young or old\n",
      "Our thoughts are as good as gold\n",
      "Where we go on land or sea\n",
      "We can always be happy and free\n",
      "Free to express our thoughts and then\n",
      "Even express them over again\n",
      "To different people no matter what color or race\n",
      "In America for them there is always a place\n",
      "To make a home\n",
      "For their families to roam\n",
      "The fields; the woods.\n",
      "The countryside\n",
      "Especially the young man and his bride\n",
      "For seniors and teens\n",
      "In formals or jeans\n",
      "Who ever it may be\n",
      "Remember we can always be free\n",
      "Just like a bird chirping, singing happily.\n",
      "Like chipmunks in the wood\n",
      "Calling to his mate and being good.\n",
      "Good to his family\n",
      "And Grandpa talking to his Emily\n",
      "Pondering over ideas and thoughts galore\n",
      "And, off to bed and listen to him snore\n",
      "Taken up in the morning early light\n",
      "Whenever it is nice and bright\n",
      "In America where we are always free\n",
      "Where in New York Harbor stands the Statue of Liberty\n",
      "Her hand raised high toward the sky\n",
      "Where our planes in freedom fly\n",
      "Where all of us want to be\n",
      "America for you and me\n",
      "Liberty and freedom will never end\n",
      "I'll get down on both my knees and bend\n",
      "To thank God I am an American\n",
      "In a country great and grand\n",
      "Who wants to be anywhere else\n",
      "Except in America where we can do so much expand\n",
      "America will always be my land.\n"
     ]
    }
   ],
   "source": [
    "print(df_topics_generation.iloc[119][\"poem\"])"
   ]
  },
  {
   "cell_type": "markdown",
   "metadata": {},
   "source": [
    "#### forms folder\n",
    "---\n",
    "Same as **topics** folder, but way more weird last and first lines on data points."
   ]
  },
  {
   "cell_type": "code",
   "execution_count": 83,
   "metadata": {},
   "outputs": [],
   "source": [
    "forms = os.listdir(\"../data_raw/forms\")\n",
    "df_forms_list = []\n",
    "for form in forms:\n",
    "    files = os.listdir(f\"../data_raw/forms/{form}\")\n",
    "    df_form = pd.DataFrame(columns=[\"poem\"])\n",
    "    i = 0\n",
    "    for filename in files:\n",
    "        with open(f\"../data_raw/forms/{form}/{filename}\", encoding=\"utf8\") as f:\n",
    "            df_form.loc[i] = {\"poem\": f.read()}\n",
    "        i += 1\n",
    "    df_forms_list.append(df_form)"
   ]
  },
  {
   "cell_type": "code",
   "execution_count": 96,
   "metadata": {},
   "outputs": [
    {
     "data": {
      "text/html": [
       "<div>\n",
       "<style scoped>\n",
       "    .dataframe tbody tr th:only-of-type {\n",
       "        vertical-align: middle;\n",
       "    }\n",
       "\n",
       "    .dataframe tbody tr th {\n",
       "        vertical-align: top;\n",
       "    }\n",
       "\n",
       "    .dataframe thead th {\n",
       "        text-align: right;\n",
       "    }\n",
       "</style>\n",
       "<table border=\"1\" class=\"dataframe\">\n",
       "  <thead>\n",
       "    <tr style=\"text-align: right;\">\n",
       "      <th></th>\n",
       "      <th>poem</th>\n",
       "    </tr>\n",
       "  </thead>\n",
       "  <tbody>\n",
       "    <tr>\n",
       "      <th>0</th>\n",
       "      <td>2 ABC of H.k. and China revised vision.\\nBarre...</td>\n",
       "    </tr>\n",
       "    <tr>\n",
       "      <th>1</th>\n",
       "      <td>Apparently life without love, is no life at al...</td>\n",
       "    </tr>\n",
       "    <tr>\n",
       "      <th>2</th>\n",
       "      <td>A abc angles on angels flaws (poem)\\nMix with ...</td>\n",
       "    </tr>\n",
       "    <tr>\n",
       "      <th>3</th>\n",
       "      <td>A abc Brazil dance (poem)\\nJack of crack in po...</td>\n",
       "    </tr>\n",
       "    <tr>\n",
       "      <th>4</th>\n",
       "      <td>ABC... I can't go on\\n123... what's the next o...</td>\n",
       "    </tr>\n",
       "    <tr>\n",
       "      <th>...</th>\n",
       "      <td>...</td>\n",
       "    </tr>\n",
       "    <tr>\n",
       "      <th>6317</th>\n",
       "      <td>“Greatest Auntie strayed at Oncewas Bay\\nwhile...</td>\n",
       "    </tr>\n",
       "    <tr>\n",
       "      <th>6318</th>\n",
       "      <td>'I don't believe in free will', ventured he,\\n...</td>\n",
       "    </tr>\n",
       "    <tr>\n",
       "      <th>6319</th>\n",
       "      <td>So comes the end of another day,\\nDig the grav...</td>\n",
       "    </tr>\n",
       "    <tr>\n",
       "      <th>6320</th>\n",
       "      <td>While LM Radio does my favourite music play,\\n...</td>\n",
       "    </tr>\n",
       "    <tr>\n",
       "      <th>6321</th>\n",
       "      <td>It's as if it's you and our grandchildren I wa...</td>\n",
       "    </tr>\n",
       "  </tbody>\n",
       "</table>\n",
       "<p>6322 rows × 1 columns</p>\n",
       "</div>"
      ],
      "text/plain": [
       "                                                   poem\n",
       "0     2 ABC of H.k. and China revised vision.\\nBarre...\n",
       "1     Apparently life without love, is no life at al...\n",
       "2     A abc angles on angels flaws (poem)\\nMix with ...\n",
       "3     A abc Brazil dance (poem)\\nJack of crack in po...\n",
       "4     ABC... I can't go on\\n123... what's the next o...\n",
       "...                                                 ...\n",
       "6317  “Greatest Auntie strayed at Oncewas Bay\\nwhile...\n",
       "6318  'I don't believe in free will', ventured he,\\n...\n",
       "6319  So comes the end of another day,\\nDig the grav...\n",
       "6320  While LM Radio does my favourite music play,\\n...\n",
       "6321  It's as if it's you and our grandchildren I wa...\n",
       "\n",
       "[6322 rows x 1 columns]"
      ]
     },
     "execution_count": 96,
     "metadata": {},
     "output_type": "execute_result"
    }
   ],
   "source": [
    "df_forms = pd.concat(df_forms_list, ignore_index=True)\n",
    "df_forms"
   ]
  },
  {
   "cell_type": "code",
   "execution_count": 132,
   "metadata": {},
   "outputs": [
    {
     "name": "stdout",
     "output_type": "stream",
     "text": [
      "- A - Every Man Is a Child\n",
      "Every man is a child of his dreams\n",
      "Searching through each his going and true coming\n",
      "From the days that have given some their deems\n",
      "With each their lost and found in their fathoming\n",
      "Rivers never go dry with understanding\n",
      "Those that are found in the deep of the heart\n",
      "Strange weirdness is there constantly demanding\n",
      "Adventurous thoughts of their counterpart\n",
      "Lives central things make the world go around\n",
      "Like a simple smile shining through tomorrow\n",
      "Where childhood happiness is often found\n",
      "Even those that once were buried in sorrow\n",
      "Before you judge any man try to love him\n",
      "With your compassion in times turmoil's brim\n",
      "- B - The Inside of Everything\n",
      "The inside of everything's still glowing\n",
      "With wonderments you can never be without\n",
      "In a go to go it’s always there showing\n",
      "To give you its promises with any doubt\n",
      "Light of its sweetness that never goes away\n",
      "In from your true and beautiful that's you\n",
      "Playing on moments that feelings only play\n",
      "Something in its times that is here new\n",
      "The deep secrets from your heart and its beat\n",
      "Like the rose buds in the thorns of their touch\n",
      "That in your way of lives each to treat\n",
      "Giving hope of much or only some of such\n",
      "Everything that's from inside of the deep\n",
      "From love and its feelings - for always to keep\n",
      "- C - Those Times\n",
      "Those times that is changing from young to old\n",
      "In searching the world and looking around\n",
      "The days of the new that no moments can hold\n",
      "And you in your feeling have some there found\n",
      "Like understandings of views that come and go\n",
      "Drip of the times the lost in its looking\n",
      "Past flowers in moment’s memories heigh-ho\n",
      "That through your roots onward is on hooking\n",
      "Playing eccentricities to make you feel good\n",
      "Keeping you as child in life without reason\n",
      "Each of its compensate and true brotherhood\n",
      "Changing in adventurous for each season\n",
      "The strangeness of the ways that love and give\n",
      "A childhood of conquest to reinvent and live\n",
      "*Written to this MJ portrait: http: //www.flickr.com/photos/benheine/3728685685/\n"
     ]
    }
   ],
   "source": [
    "print(df_forms.iloc[6][\"poem\"])"
   ]
  },
  {
   "cell_type": "code",
   "execution_count": 125,
   "metadata": {},
   "outputs": [
    {
     "name": "stdout",
     "output_type": "stream",
     "text": [
      "                                 poem\n",
      "359            troublesomely riparian\n",
      "481                                  \n",
      "786        All alone, i hide in lies.\n",
      "974            Elections………..........\n",
      "978                  LIFE............\n",
      "980                      Destiny.....\n",
      "998             Marriage.............\n",
      "1001                  Politics.......\n",
      "1009                    Silence......\n",
      "1012                 EGO.............\n",
      "1016         Prayers.................\n",
      "2959   one haiku a day\\npeace of mind\n",
      "3030  The taste\\nof rain\\n—Why kneel?\n",
      "3951      light differs sight differs\n",
      "3956    the language of cloud is rain\n",
      "3957       nothing is new all renewed\n",
      "3975    Even a dry leaf can be a boat\n",
      "3981    other name of talent is light\n",
      "4014     Consuming life with  passion\n",
      "4016     Eternal work of the Universe\n",
      "4019             A place for emotions\n",
      "4875            A riddle is a riddle.\n"
     ]
    }
   ],
   "source": [
    "# DO WE KEEP THESE ?\n",
    "print(df_forms[df_forms[\"poem\"].str.len() < 30])"
   ]
  },
  {
   "cell_type": "markdown",
   "metadata": {},
   "source": [
    "#### Poem_classification - test/train_data.csv\n",
    "---\n",
    "Not much on this dataset, poems are ***ONE LINERS***, with 4 differents labels : **Affection, Death, Environment, Music**. These are equally distributed."
   ]
  },
  {
   "cell_type": "code",
   "execution_count": 102,
   "metadata": {},
   "outputs": [],
   "source": [
    "tmp1 = pd.read_csv(\"../data_raw/Poem_classification - test_data.csv\")\n",
    "tmp2 = pd.read_csv(\"../data_raw/Poem_classification - train_data.csv\")\n",
    "df_Poem_classification = pd.concat([tmp1, tmp2], ignore_index=True)"
   ]
  },
  {
   "cell_type": "code",
   "execution_count": 103,
   "metadata": {},
   "outputs": [],
   "source": [
    "df_Poem_classification.rename(columns={\"Genre\": \"labels\", \"Poem\": \"poem\"}, inplace=True)\n",
    "df_Poem_classification = df_Poem_classification[[\"poem\", \"labels\"]]"
   ]
  },
  {
   "cell_type": "code",
   "execution_count": 123,
   "metadata": {},
   "outputs": [
    {
     "name": "stdout",
     "output_type": "stream",
     "text": [
      "(array(['Affection', 'Death', 'Environment', 'Music'], dtype=object), array([241, 247, 252, 251], dtype=int64))\n"
     ]
    }
   ],
   "source": [
    "print(np.unique(df_Poem_classification[\"labels\"], return_counts=True))"
   ]
  },
  {
   "cell_type": "code",
   "execution_count": 104,
   "metadata": {},
   "outputs": [
    {
     "data": {
      "text/html": [
       "<div>\n",
       "<style scoped>\n",
       "    .dataframe tbody tr th:only-of-type {\n",
       "        vertical-align: middle;\n",
       "    }\n",
       "\n",
       "    .dataframe tbody tr th {\n",
       "        vertical-align: top;\n",
       "    }\n",
       "\n",
       "    .dataframe thead th {\n",
       "        text-align: right;\n",
       "    }\n",
       "</style>\n",
       "<table border=\"1\" class=\"dataframe\">\n",
       "  <thead>\n",
       "    <tr style=\"text-align: right;\">\n",
       "      <th></th>\n",
       "      <th>poem</th>\n",
       "    </tr>\n",
       "  </thead>\n",
       "  <tbody>\n",
       "    <tr>\n",
       "      <th>0</th>\n",
       "      <td>A woman walks by the bench I’m sitting onwith ...</td>\n",
       "    </tr>\n",
       "    <tr>\n",
       "      <th>1</th>\n",
       "      <td>Because I am a boy, the untouchability of beau...</td>\n",
       "    </tr>\n",
       "    <tr>\n",
       "      <th>2</th>\n",
       "      <td>Because today we did not leave this world,We n...</td>\n",
       "    </tr>\n",
       "    <tr>\n",
       "      <th>3</th>\n",
       "      <td>Big Bend has been here, been here. Shouldn’t i...</td>\n",
       "    </tr>\n",
       "    <tr>\n",
       "      <th>4</th>\n",
       "      <td>I put shells there, along the lip of the road....</td>\n",
       "    </tr>\n",
       "    <tr>\n",
       "      <th>...</th>\n",
       "      <td>...</td>\n",
       "    </tr>\n",
       "    <tr>\n",
       "      <th>986</th>\n",
       "      <td>Why make so much of fragmentary blue In here a...</td>\n",
       "    </tr>\n",
       "    <tr>\n",
       "      <th>987</th>\n",
       "      <td>Woman, I wish I didn't know your name. What co...</td>\n",
       "    </tr>\n",
       "    <tr>\n",
       "      <th>988</th>\n",
       "      <td>Yonder to the kiosk, beside the creek, Paddle ...</td>\n",
       "    </tr>\n",
       "    <tr>\n",
       "      <th>989</th>\n",
       "      <td>You come to fetch me from my work to-night Whe...</td>\n",
       "    </tr>\n",
       "    <tr>\n",
       "      <th>990</th>\n",
       "      <td>You see them through water and glass, (both li...</td>\n",
       "    </tr>\n",
       "  </tbody>\n",
       "</table>\n",
       "<p>991 rows × 1 columns</p>\n",
       "</div>"
      ],
      "text/plain": [
       "                                                  poem\n",
       "0    A woman walks by the bench I’m sitting onwith ...\n",
       "1    Because I am a boy, the untouchability of beau...\n",
       "2    Because today we did not leave this world,We n...\n",
       "3    Big Bend has been here, been here. Shouldn’t i...\n",
       "4    I put shells there, along the lip of the road....\n",
       "..                                                 ...\n",
       "986  Why make so much of fragmentary blue In here a...\n",
       "987  Woman, I wish I didn't know your name. What co...\n",
       "988  Yonder to the kiosk, beside the creek, Paddle ...\n",
       "989  You come to fetch me from my work to-night Whe...\n",
       "990  You see them through water and glass, (both li...\n",
       "\n",
       "[991 rows x 1 columns]"
      ]
     },
     "execution_count": 104,
     "metadata": {},
     "output_type": "execute_result"
    }
   ],
   "source": [
    "df_Poem_classification_generation = df_Poem_classification.drop(columns=[\"labels\"])\n",
    "df_Poem_classification_generation"
   ]
  },
  {
   "cell_type": "code",
   "execution_count": 121,
   "metadata": {},
   "outputs": [
    {
     "name": "stdout",
     "output_type": "stream",
     "text": [
      "sing manatee, manatee (you’d better praise all you can he said) all the trembling day & passing before her captivity\n",
      "Siwashing It Out Once in Suislaw ForestI slept under rhododendron All nightblossoms fell Shivering on\n"
     ]
    }
   ],
   "source": [
    "print(df_Poem_classification_generation.iloc[910][\"poem\"])\n",
    "print(df_Poem_classification_generation.iloc[911][\"poem\"])"
   ]
  },
  {
   "cell_type": "markdown",
   "metadata": {},
   "source": [
    "### MERGING\n",
    "---"
   ]
  },
  {
   "cell_type": "code",
   "execution_count": 110,
   "metadata": {},
   "outputs": [],
   "source": [
    "df_classification = pd.concat([df_PoetryFoundationData_classification, df_topics, df_Poem_classification], ignore_index=True)\n",
    "df_classification = df_classification.drop_duplicates(ignore_index=True)"
   ]
  },
  {
   "cell_type": "code",
   "execution_count": 111,
   "metadata": {},
   "outputs": [],
   "source": [
    "df_generation = pd.concat([df_PoetryFoundationData_generation, df_kaggle_poem_dataset, df_topics_generation, df_forms, df_Poem_classification_generation])\n",
    "df_classification = df_generation.drop_duplicates(ignore_index=True)"
   ]
  }
 ],
 "metadata": {
  "kernelspec": {
   "display_name": "Python 3",
   "language": "python",
   "name": "python3"
  },
  "language_info": {
   "codemirror_mode": {
    "name": "ipython",
    "version": 3
   },
   "file_extension": ".py",
   "mimetype": "text/x-python",
   "name": "python",
   "nbconvert_exporter": "python",
   "pygments_lexer": "ipython3",
   "version": "3.10.0"
  }
 },
 "nbformat": 4,
 "nbformat_minor": 2
}
