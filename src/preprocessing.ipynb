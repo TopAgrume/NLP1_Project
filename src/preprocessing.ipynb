{
 "cells": [
  {
   "cell_type": "markdown",
   "metadata": {},
   "source": [
    "# Légende\n",
    "* [Pré-traitement](#1)\n",
    "    * [Lowercase everything](#11)\n",
    "    * [Remove apostrophes](#12)\n",
    "    * [Remove \\r and \\n](#13)\n",
    "    * [Remove the punctuations](#14)\n",
    "    * [Remove stop word](#15)\n",
    "* [Part-of-speech tagging](#2) \n",
    "* [Data Augmentation](#3)"
   ]
  },
  {
   "cell_type": "markdown",
   "metadata": {},
   "source": [
    "# Pré-traitement <a class=\"anchor\" id=\"1\"></a>\n",
    "\n",
    "- Characters to lowercase\n",
    "- Remove apostrophes, whitespaces and punctuations\n",
    "- Adding tokens START, END and N to differentiate new lines and poems."
   ]
  },
  {
   "cell_type": "code",
   "execution_count": 1,
   "metadata": {},
   "outputs": [
    {
     "name": "stdout",
     "output_type": "stream",
     "text": [
      "['i', 'me', 'my', 'myself', 'we', 'our', 'ours', 'ourselves', 'you', \"you're\", \"you've\", \"you'll\", \"you'd\", 'your', 'yours', 'yourself', 'yourselves', 'he', 'him', 'his', 'himself', 'she', \"she's\", 'her', 'hers', 'herself', 'it', \"it's\", 'its', 'itself', 'they', 'them', 'their', 'theirs', 'themselves', 'what', 'which', 'who', 'whom', 'this', 'that', \"that'll\", 'these', 'those', 'am', 'is', 'are', 'was', 'were', 'be', 'been', 'being', 'have', 'has', 'had', 'having', 'do', 'does', 'did', 'doing', 'a', 'an', 'the', 'and', 'but', 'if', 'or', 'because', 'as', 'until', 'while', 'of', 'at', 'by', 'for', 'with', 'about', 'against', 'between', 'into', 'through', 'during', 'before', 'after', 'above', 'below', 'to', 'from', 'up', 'down', 'in', 'out', 'on', 'off', 'over', 'under', 'again', 'further', 'then', 'once', 'here', 'there', 'when', 'where', 'why', 'how', 'all', 'any', 'both', 'each', 'few', 'more', 'most', 'other', 'some', 'such', 'no', 'nor', 'not', 'only', 'own', 'same', 'so', 'than', 'too', 'very', 's', 't', 'can', 'will', 'just', 'don', \"don't\", 'should', \"should've\", 'now', 'd', 'll', 'm', 'o', 're', 've', 'y', 'ain', 'aren', \"aren't\", 'couldn', \"couldn't\", 'didn', \"didn't\", 'doesn', \"doesn't\", 'hadn', \"hadn't\", 'hasn', \"hasn't\", 'haven', \"haven't\", 'isn', \"isn't\", 'ma', 'mightn', \"mightn't\", 'mustn', \"mustn't\", 'needn', \"needn't\", 'shan', \"shan't\", 'shouldn', \"shouldn't\", 'wasn', \"wasn't\", 'weren', \"weren't\", 'won', \"won't\", 'wouldn', \"wouldn't\"]\n"
     ]
    },
    {
     "name": "stderr",
     "output_type": "stream",
     "text": [
      "[nltk_data] Downloading package stopwords to /home/cricri/nltk_data...\n",
      "[nltk_data]   Unzipping corpora/stopwords.zip.\n"
     ]
    }
   ],
   "source": [
    "import nltk\n",
    "import pandas as pd\n",
    "\n",
    "from nltk.tokenize import word_tokenize, sent_tokenize\n",
    "from nltk.corpus import stopwords\n",
    " \n",
    "try:\n",
    "    nltk.data.find('corpora/stopwords')\n",
    "except:\n",
    "    print(\"Downloading nltk.stopwords...\")\n",
    "    nltk.download('stopwords')\n",
    "\n",
    "# Download nltk packages for POS Tagging\n",
    "try:\n",
    "    nltk.data.find('taggers/averaged_perceptron_tagger')\n",
    "except LookupError:\n",
    "    print(\"Downloading nltk.averaged_perceptron_tagger...\")\n",
    "    nltk.download('averaged_perceptron_tagger')\n",
    "\n",
    "# Pandas display options\n",
    "pd.set_option('display.max_colwidth', None)"
   ]
  },
  {
   "cell_type": "code",
   "execution_count": null,
   "metadata": {},
   "outputs": [],
   "source": [
    "df_PoetryFoundationData = pd.read_csv(\"../data_raw/PoetryFoundationData.csv\")\n",
    "df_PoetryFoundationData.drop(columns=[\"Title\", \"Poet\", \"Unnamed: 0\"], inplace=True)\n",
    "df_PoetryFoundationData.rename(columns={\"Poem\": \"poem\", \"Tags\": \"labels\"}, inplace=True)\n",
    "df_PoetryFoundationData.tail(3)"
   ]
  },
  {
   "cell_type": "code",
   "execution_count": null,
   "metadata": {},
   "outputs": [],
   "source": [
    "df_PoetryFoundationData.isna().sum()"
   ]
  },
  {
   "cell_type": "markdown",
   "metadata": {},
   "source": [
    "### Lowercase everything <a class=\"anchor\" id=\"11\"></a>"
   ]
  },
  {
   "cell_type": "code",
   "execution_count": null,
   "metadata": {},
   "outputs": [],
   "source": [
    "df_PoetryFoundationData[\"poem\"] = df_PoetryFoundationData[\"poem\"].str.lower()"
   ]
  },
  {
   "cell_type": "markdown",
   "metadata": {},
   "source": [
    "### Remove apostrophes <a class=\"anchor\" id=\"12\"></a>"
   ]
  },
  {
   "cell_type": "code",
   "execution_count": null,
   "metadata": {},
   "outputs": [],
   "source": [
    "# Here, I remove the apostrophes and join the left and right parts. E.g. \"I'm\" -> \"Im\"\n",
    "df_PoetryFoundationData[\"poem\"] = df_PoetryFoundationData[\"poem\"].str.replace(\"'\", \"\", regex=False)\n",
    "df_PoetryFoundationData[\"poem\"] = df_PoetryFoundationData[\"poem\"].str.replace(\"’\", \"\", regex=False)"
   ]
  },
  {
   "cell_type": "markdown",
   "metadata": {},
   "source": [
    "### Remove \\r and \\n <a class=\"anchor\" id=\"13\"></a>"
   ]
  },
  {
   "cell_type": "code",
   "execution_count": null,
   "metadata": {},
   "outputs": [],
   "source": [
    "df_PoetryFoundationData[\"poem\"] = df_PoetryFoundationData[\"poem\"].str.replace(\"\\r\", \"\")\n",
    "df_PoetryFoundationData[\"poem\"] = df_PoetryFoundationData[\"poem\"].str.strip(\"\\n\")\n",
    "df_PoetryFoundationData = df_PoetryFoundationData[df_PoetryFoundationData[\"poem\"] != \"\"]\n",
    "\n",
    "# Adding tokens START, END and N (newline) for each poem\n",
    "df_PoetryFoundationData['poem'] = 'START ' + df_PoetryFoundationData['poem'] + ' END'\n",
    "df_PoetryFoundationData['poem'] = df_PoetryFoundationData['poem'].str.replace('\\n', ' N ')"
   ]
  },
  {
   "cell_type": "markdown",
   "metadata": {},
   "source": [
    "### Remove the punctuations <a class=\"anchor\" id=\"14\"></a>"
   ]
  },
  {
   "cell_type": "code",
   "execution_count": null,
   "metadata": {},
   "outputs": [],
   "source": [
    "df_PoetryFoundationData[\"poem\"] = df_PoetryFoundationData[\"poem\"].str.replace(\"[^\\w\\s]\", \"\", regex=True)"
   ]
  },
  {
   "cell_type": "markdown",
   "metadata": {},
   "source": [
    "### Remove stop word <a class=\"anchor\" id=\"15\"></a>"
   ]
  },
  {
   "cell_type": "code",
   "execution_count": null,
   "metadata": {},
   "outputs": [],
   "source": []
  },
  {
   "cell_type": "code",
   "execution_count": null,
   "metadata": {},
   "outputs": [],
   "source": [
    "df_PoetryFoundationData.tail(5)"
   ]
  },
  {
   "cell_type": "markdown",
   "metadata": {},
   "source": [
    "# Part-of-speech tagging <a class=\"anchor\" id=\"2\"></a>"
   ]
  },
  {
   "cell_type": "code",
   "execution_count": null,
   "metadata": {},
   "outputs": [],
   "source": [
    "poem_example = df_PoetryFoundationData[\"poem\"][0]\n",
    "for sent in sent_tokenize(poem_example):\n",
    "    wordtokens = word_tokenize(sent)\n",
    "    print(nltk.pos_tag(wordtokens),end='\\n\\n')"
   ]
  },
  {
   "cell_type": "markdown",
   "metadata": {},
   "source": [
    "# Data Augmentation <a class=\"anchor\" id=\"3\"></a>"
   ]
  },
  {
   "cell_type": "markdown",
   "metadata": {},
   "source": [
    "- stemming and lemmatization\n",
    "- rephrase text"
   ]
  },
  {
   "cell_type": "markdown",
   "metadata": {},
   "source": []
  }
 ],
 "metadata": {
  "kernelspec": {
   "display_name": "Python 3 (ipykernel)",
   "language": "python",
   "name": "python3"
  },
  "language_info": {
   "codemirror_mode": {
    "name": "ipython",
    "version": 3
   },
   "file_extension": ".py",
   "mimetype": "text/x-python",
   "name": "python",
   "nbconvert_exporter": "python",
   "pygments_lexer": "ipython3",
   "version": "3.10.12"
  }
 },
 "nbformat": 4,
 "nbformat_minor": 2
}
