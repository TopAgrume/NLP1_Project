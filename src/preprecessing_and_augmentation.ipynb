{
 "cells": [
  {
   "cell_type": "markdown",
   "metadata": {},
   "source": [
    "# Légende\n",
    "* [Pré-traitement](#1)\n",
    "    * [Lowercase everything](#11)\n",
    "    * [Remove apostrophes](#12)\n",
    "    * [Remove \\r and \\n](#13)\n",
    "    * [Remove the punctuations](#14)\n",
    "* [Data Augmentation](#2)"
   ]
  },
  {
   "cell_type": "markdown",
   "metadata": {},
   "source": [
    "# Pré-traitement <a class=\"anchor\" id=\"1\"></a>\n",
    "\n",
    "- Characters to lowercase\n",
    "- Remove apostrophes, whitespaces and punctuations\n",
    "- Adding tokens START, END and N to differentiate new lines and poems."
   ]
  },
  {
   "cell_type": "code",
   "execution_count": null,
   "metadata": {},
   "outputs": [],
   "source": [
    "import pandas as pd\n",
    "pd.set_option('display.max_colwidth', None)"
   ]
  },
  {
   "cell_type": "code",
   "execution_count": null,
   "metadata": {},
   "outputs": [],
   "source": [
    "df_PoetryFoundationData = pd.read_csv(\"../data_raw/PoetryFoundationData.csv\")\n",
    "df_PoetryFoundationData.drop(columns=[\"Title\", \"Poet\", \"Unnamed: 0\"], inplace=True)\n",
    "df_PoetryFoundationData.rename(columns={\"Poem\": \"poem\", \"Tags\": \"labels\"}, inplace=True)\n",
    "df_PoetryFoundationData.tail(3)"
   ]
  },
  {
   "cell_type": "code",
   "execution_count": null,
   "metadata": {},
   "outputs": [],
   "source": [
    "df_PoetryFoundationData.isna().sum()"
   ]
  },
  {
   "cell_type": "markdown",
   "metadata": {},
   "source": [
    "### Lowercase everything <a class=\"anchor\" id=\"11\"></a>"
   ]
  },
  {
   "cell_type": "code",
   "execution_count": null,
   "metadata": {},
   "outputs": [],
   "source": [
    "df_PoetryFoundationData[\"poem\"] = df_PoetryFoundationData[\"poem\"].str.lower()"
   ]
  },
  {
   "cell_type": "markdown",
   "metadata": {},
   "source": [
    "### Remove apostrophes <a class=\"anchor\" id=\"12\"></a>"
   ]
  },
  {
   "cell_type": "code",
   "execution_count": null,
   "metadata": {},
   "outputs": [],
   "source": [
    "# Here, I remove the apostrophes and join the left and right parts. E.g. \"I'm\" -> \"Im\"\n",
    "df_PoetryFoundationData[\"poem\"] = df_PoetryFoundationData[\"poem\"].str.replace(\"'\", \"\", regex=False)\n",
    "df_PoetryFoundationData[\"poem\"] = df_PoetryFoundationData[\"poem\"].str.replace(\"’\", \"\", regex=False)\n",
    "df_PoetryFoundationData.tail(2)"
   ]
  },
  {
   "cell_type": "markdown",
   "metadata": {},
   "source": [
    "### Remove \\r and \\n <a class=\"anchor\" id=\"13\"></a>"
   ]
  },
  {
   "cell_type": "code",
   "execution_count": null,
   "metadata": {},
   "outputs": [],
   "source": [
    "df_PoetryFoundationData[\"poem\"] = df_PoetryFoundationData[\"poem\"].str.replace(\"\\r\", \"\")\n",
    "df_PoetryFoundationData[\"poem\"] = df_PoetryFoundationData[\"poem\"].str.strip(\"\\n\")\n",
    "df_PoetryFoundationData = df_PoetryFoundationData[df_PoetryFoundationData[\"poem\"] != \"\"]\n",
    "\n",
    "# Adding tokens START, END and N (newline) for each poem\n",
    "df_PoetryFoundationData['poem'] = 'START ' + df_PoetryFoundationData['poem'] + ' END'\n",
    "df_PoetryFoundationData['poem'] = df_PoetryFoundationData['poem'].str.replace('\\n', ' N ')\n",
    "df_PoetryFoundationData.tail(2)"
   ]
  },
  {
   "cell_type": "markdown",
   "metadata": {},
   "source": [
    "### Remove the punctuations <a class=\"anchor\" id=\"14\"></a>"
   ]
  },
  {
   "cell_type": "code",
   "execution_count": null,
   "metadata": {},
   "outputs": [],
   "source": [
    "df_PoetryFoundationData[\"poem\"] = df_PoetryFoundationData[\"poem\"].str.replace(\"[^\\w\\s]\", \"\", regex=True)"
   ]
  },
  {
   "cell_type": "code",
   "execution_count": null,
   "metadata": {},
   "outputs": [],
   "source": [
    "df_PoetryFoundationData.tail(5)"
   ]
  },
  {
   "cell_type": "markdown",
   "metadata": {},
   "source": [
    "# Data Augmentation <a class=\"anchor\" id=\"2\"></a>"
   ]
  },
  {
   "cell_type": "markdown",
   "metadata": {},
   "source": [
    "- stemming and lemmatization\n",
    "- rephrase text"
   ]
  },
  {
   "cell_type": "markdown",
   "metadata": {},
   "source": []
  }
 ],
 "metadata": {
  "kernelspec": {
   "display_name": "Python 3 (ipykernel)",
   "language": "python",
   "name": "python3"
  },
  "language_info": {
   "codemirror_mode": {
    "name": "ipython",
    "version": 3
   },
   "file_extension": ".py",
   "mimetype": "text/x-python",
   "name": "python",
   "nbconvert_exporter": "python",
   "pygments_lexer": "ipython3",
   "version": "3.10.12"
  }
 },
 "nbformat": 4,
 "nbformat_minor": 2
}
