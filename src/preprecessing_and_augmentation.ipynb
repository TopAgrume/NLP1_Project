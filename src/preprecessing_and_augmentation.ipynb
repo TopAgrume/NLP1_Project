{
 "cells": [
  {
   "cell_type": "markdown",
   "metadata": {},
   "source": [
    "# Légende\n",
    "* [Pré-traitement](#1)\n",
    "    * [Lowercase everything](#11)\n",
    "    * [Remove apostrophes](#12)\n",
    "    * [Remove \\r and \\n](#13)\n",
    "    * [Remove the punctuations](#14)\n",
    "* [Part-of-speech tagging](#2) \n",
    "* [Data Augmentation](#3)"
   ]
  },
  {
   "cell_type": "markdown",
   "metadata": {},
   "source": [
    "# Pré-traitement <a class=\"anchor\" id=\"1\"></a>\n",
    "\n",
    "- Characters to lowercase\n",
    "- Remove apostrophes, whitespaces and punctuations\n",
    "- Adding tokens START, END and N to differentiate new lines and poems."
   ]
  },
  {
   "cell_type": "code",
   "execution_count": 1,
   "metadata": {},
   "outputs": [],
   "source": [
    "import nltk\n",
    "import pandas as pd\n",
    "\n",
    "from nltk.tokenize import word_tokenize, sent_tokenize\n",
    "\n",
    "# Download nltk packages for POS Tagging\n",
    "try:\n",
    "    nltk.data.find('taggers/averaged_perceptron_tagger')\n",
    "except LookupError:\n",
    "    print(\"Downloading nltk.averaged_perceptron_tagger...\")\n",
    "    nltk.download('averaged_perceptron_tagger')\n",
    "\n",
    "# Pandas display options\n",
    "pd.set_option('display.max_colwidth', None)"
   ]
  },
  {
   "cell_type": "code",
   "execution_count": 2,
   "metadata": {},
   "outputs": [
    {
     "data": {
      "text/html": [
       "<div>\n",
       "<style scoped>\n",
       "    .dataframe tbody tr th:only-of-type {\n",
       "        vertical-align: middle;\n",
       "    }\n",
       "\n",
       "    .dataframe tbody tr th {\n",
       "        vertical-align: top;\n",
       "    }\n",
       "\n",
       "    .dataframe thead th {\n",
       "        text-align: right;\n",
       "    }\n",
       "</style>\n",
       "<table border=\"1\" class=\"dataframe\">\n",
       "  <thead>\n",
       "    <tr style=\"text-align: right;\">\n",
       "      <th></th>\n",
       "      <th>poem</th>\n",
       "      <th>labels</th>\n",
       "    </tr>\n",
       "  </thead>\n",
       "  <tbody>\n",
       "    <tr>\n",
       "      <th>13851</th>\n",
       "      <td>\\r\\r\\n\\r\\r\\n</td>\n",
       "      <td>NaN</td>\n",
       "    </tr>\n",
       "    <tr>\n",
       "      <th>13852</th>\n",
       "      <td>\\r\\r\\n          Philosophic\\r\\r\\nin its complex, ovoid emptiness,\\r\\r\\na skillful pundit coined it as a sort\\r\\r\\n    of stopgap doorstop for those\\r\\r\\n           quaint equations           Romans never\\r\\r\\ndreamt of. In form completely clever\\r\\r\\nand discrete—a mirror come unsilvered,     loose watch face without the works,              a hollowed globe            from tip to toe\\r\\r\\nunbroken, it evades the grappling\\r\\r\\nhooks of mass, tilts the thin rim of no thing,     remains embryonic sum,             non-cogito.\\r\\r\\n</td>\n",
       "      <td>Arts &amp; Sciences,Philosophy</td>\n",
       "    </tr>\n",
       "    <tr>\n",
       "      <th>13853</th>\n",
       "      <td>\\r\\r\\nDear Writers, I’m compiling the first in what I hope is a series of publications I’m calling artists among artists. The theme for issue 1 is “Faggot Dinosaur.” I hope to hear from you! Thank you and best wishes.</td>\n",
       "      <td>Relationships,Gay, Lesbian, Queer,Arts &amp; Sciences,Poetry &amp; Poets,Social Commentaries,Gender &amp; Sexuality</td>\n",
       "    </tr>\n",
       "  </tbody>\n",
       "</table>\n",
       "</div>"
      ],
      "text/plain": [
       "                                                                                                                                                                                                                                                                                                                                                                                                                                                                                                                                                         poem  \\\n",
       "13851                                                                                                                                                                                                                                                                                                                                                                                                                                                                                                                                            \\r\\r\\n\\r\\r\\n   \n",
       "13852  \\r\\r\\n          Philosophic\\r\\r\\nin its complex, ovoid emptiness,\\r\\r\\na skillful pundit coined it as a sort\\r\\r\\n    of stopgap doorstop for those\\r\\r\\n           quaint equations           Romans never\\r\\r\\ndreamt of. In form completely clever\\r\\r\\nand discrete—a mirror come unsilvered,     loose watch face without the works,              a hollowed globe            from tip to toe\\r\\r\\nunbroken, it evades the grappling\\r\\r\\nhooks of mass, tilts the thin rim of no thing,     remains embryonic sum,             non-cogito.\\r\\r\\n   \n",
       "13853                                                                                                                                                                                                                                                                                                                             \\r\\r\\nDear Writers, I’m compiling the first in what I hope is a series of publications I’m calling artists among artists. The theme for issue 1 is “Faggot Dinosaur.” I hope to hear from you! Thank you and best wishes.     \n",
       "\n",
       "                                                                                                        labels  \n",
       "13851                                                                                                      NaN  \n",
       "13852                                                                               Arts & Sciences,Philosophy  \n",
       "13853  Relationships,Gay, Lesbian, Queer,Arts & Sciences,Poetry & Poets,Social Commentaries,Gender & Sexuality  "
      ]
     },
     "execution_count": 2,
     "metadata": {},
     "output_type": "execute_result"
    }
   ],
   "source": [
    "df_PoetryFoundationData = pd.read_csv(\"../data_raw/PoetryFoundationData.csv\")\n",
    "df_PoetryFoundationData.drop(columns=[\"Title\", \"Poet\", \"Unnamed: 0\"], inplace=True)\n",
    "df_PoetryFoundationData.rename(columns={\"Poem\": \"poem\", \"Tags\": \"labels\"}, inplace=True)\n",
    "df_PoetryFoundationData.tail(3)"
   ]
  },
  {
   "cell_type": "code",
   "execution_count": 3,
   "metadata": {},
   "outputs": [
    {
     "data": {
      "text/plain": [
       "poem        0\n",
       "labels    955\n",
       "dtype: int64"
      ]
     },
     "execution_count": 3,
     "metadata": {},
     "output_type": "execute_result"
    }
   ],
   "source": [
    "df_PoetryFoundationData.isna().sum()"
   ]
  },
  {
   "cell_type": "markdown",
   "metadata": {},
   "source": [
    "### Lowercase everything <a class=\"anchor\" id=\"11\"></a>"
   ]
  },
  {
   "cell_type": "code",
   "execution_count": 4,
   "metadata": {},
   "outputs": [],
   "source": [
    "df_PoetryFoundationData[\"poem\"] = df_PoetryFoundationData[\"poem\"].str.lower()"
   ]
  },
  {
   "cell_type": "markdown",
   "metadata": {},
   "source": [
    "### Remove apostrophes <a class=\"anchor\" id=\"12\"></a>"
   ]
  },
  {
   "cell_type": "code",
   "execution_count": 5,
   "metadata": {},
   "outputs": [],
   "source": [
    "# Here, I remove the apostrophes and join the left and right parts. E.g. \"I'm\" -> \"Im\"\n",
    "df_PoetryFoundationData[\"poem\"] = df_PoetryFoundationData[\"poem\"].str.replace(\"'\", \"\", regex=False)\n",
    "df_PoetryFoundationData[\"poem\"] = df_PoetryFoundationData[\"poem\"].str.replace(\"’\", \"\", regex=False)"
   ]
  },
  {
   "cell_type": "markdown",
   "metadata": {},
   "source": [
    "### Remove \\r and \\n <a class=\"anchor\" id=\"13\"></a>"
   ]
  },
  {
   "cell_type": "code",
   "execution_count": 6,
   "metadata": {},
   "outputs": [],
   "source": [
    "df_PoetryFoundationData[\"poem\"] = df_PoetryFoundationData[\"poem\"].str.replace(\"\\r\", \"\")\n",
    "df_PoetryFoundationData[\"poem\"] = df_PoetryFoundationData[\"poem\"].str.strip(\"\\n\")\n",
    "df_PoetryFoundationData = df_PoetryFoundationData[df_PoetryFoundationData[\"poem\"] != \"\"]\n",
    "\n",
    "# Adding tokens START, END and N (newline) for each poem\n",
    "df_PoetryFoundationData['poem'] = 'START ' + df_PoetryFoundationData['poem'] + ' END'\n",
    "df_PoetryFoundationData['poem'] = df_PoetryFoundationData['poem'].str.replace('\\n', ' N ')"
   ]
  },
  {
   "cell_type": "markdown",
   "metadata": {},
   "source": [
    "### Remove the punctuations <a class=\"anchor\" id=\"14\"></a>"
   ]
  },
  {
   "cell_type": "code",
   "execution_count": 7,
   "metadata": {},
   "outputs": [],
   "source": [
    "df_PoetryFoundationData[\"poem\"] = df_PoetryFoundationData[\"poem\"].str.replace(\"[^\\w\\s]\", \"\", regex=True)"
   ]
  },
  {
   "cell_type": "code",
   "execution_count": 8,
   "metadata": {},
   "outputs": [
    {
     "data": {
      "text/html": [
       "<div>\n",
       "<style scoped>\n",
       "    .dataframe tbody tr th:only-of-type {\n",
       "        vertical-align: middle;\n",
       "    }\n",
       "\n",
       "    .dataframe tbody tr th {\n",
       "        vertical-align: top;\n",
       "    }\n",
       "\n",
       "    .dataframe thead th {\n",
       "        text-align: right;\n",
       "    }\n",
       "</style>\n",
       "<table border=\"1\" class=\"dataframe\">\n",
       "  <thead>\n",
       "    <tr style=\"text-align: right;\">\n",
       "      <th></th>\n",
       "      <th>poem</th>\n",
       "      <th>labels</th>\n",
       "    </tr>\n",
       "  </thead>\n",
       "  <tbody>\n",
       "    <tr>\n",
       "      <th>13835</th>\n",
       "      <td>START dear writers im compiling the first in what i hope is a series of publications im calling artists among artists the theme for issue 1 is faggot dinosaur i hope to hear from you thank you and best wishes   END</td>\n",
       "      <td>Relationships,Gay, Lesbian, Queer,Arts &amp; Sciences,Poetry &amp; Poets,Social Commentaries,Gender &amp; Sexuality</td>\n",
       "    </tr>\n",
       "    <tr>\n",
       "      <th>13848</th>\n",
       "      <td>START the wise men will unlearn your name N above your head no star will flame N one weary sound will be the same N the hoarse roar of the gale N the shadows fall from your tired eyes N as your lone bedside candle dies N for here the calendar breeds nights N till stores of candles fail N what prompts this melancholy key N a long familiar melody N it sounds again so let it be N let it sound from this night N let it sound in my hour of  death N as gratefulness of eyes and lips N for that which sometimes makes us lift N our gaze to the far sky N you glare in silence at the wall N your stocking gapes no gifts at all N its clear that you are now too old N to trust in good saint nick N that its too late for miracles N but suddenly lifting your eyes N to heavens light you realize N your life is a sheer gift END</td>\n",
       "      <td>Living,Death,Growing Old,Time &amp; Brevity,Nature,Winter,New Year</td>\n",
       "    </tr>\n",
       "    <tr>\n",
       "      <th>13849</th>\n",
       "      <td>START wed  like  to  talk  with  you  about  fear they  said  so N many  people  live  in  fear  these  days  they  drove  up N all  four  of  them  in  a  small  car nice   boy  they  said N beautiful  dogs they  said  so  friendly  the  man  ahead N of  the  woman  the other  two  waiting  in  the  drive  i N was  outside digging up the garden no one home i said N what   are  you  selling   anyway  im   not  interested  i N said  well  you  have  a  nice  day  they  said  heres  our N card  theres   a  phone  number  you  can  call  anytime N any  other   houses  down  this  road  anyone  else   live N here  wed  like  to  talk  to  them  about  living  in  fear END</td>\n",
       "      <td>Living,Social Commentaries,Popular Culture</td>\n",
       "    </tr>\n",
       "    <tr>\n",
       "      <th>13852</th>\n",
       "      <td>START           philosophic N in its complex ovoid emptiness N a skillful pundit coined it as a sort N     of stopgap doorstop for those N            quaint equations           romans never N dreamt of in form completely clever N and discretea mirror come unsilvered     loose watch face without the works              a hollowed globe            from tip to toe N unbroken it evades the grappling N hooks of mass tilts the thin rim of no thing     remains embryonic sum             noncogito END</td>\n",
       "      <td>Arts &amp; Sciences,Philosophy</td>\n",
       "    </tr>\n",
       "    <tr>\n",
       "      <th>13853</th>\n",
       "      <td>START dear writers im compiling the first in what i hope is a series of publications im calling artists among artists the theme for issue 1 is faggot dinosaur i hope to hear from you thank you and best wishes   END</td>\n",
       "      <td>Relationships,Gay, Lesbian, Queer,Arts &amp; Sciences,Poetry &amp; Poets,Social Commentaries,Gender &amp; Sexuality</td>\n",
       "    </tr>\n",
       "  </tbody>\n",
       "</table>\n",
       "</div>"
      ],
      "text/plain": [
       "                                                                                                                                                                                                                                                                                                                                                                                                                                                                                                                                                                                                                                                                                                                                                                                                                                                  poem  \\\n",
       "13835                                                                                                                                                                                                                                                                                                                                                                                                                                                                                                                                                                                                                           START dear writers im compiling the first in what i hope is a series of publications im calling artists among artists the theme for issue 1 is faggot dinosaur i hope to hear from you thank you and best wishes   END   \n",
       "13848  START the wise men will unlearn your name N above your head no star will flame N one weary sound will be the same N the hoarse roar of the gale N the shadows fall from your tired eyes N as your lone bedside candle dies N for here the calendar breeds nights N till stores of candles fail N what prompts this melancholy key N a long familiar melody N it sounds again so let it be N let it sound from this night N let it sound in my hour of  death N as gratefulness of eyes and lips N for that which sometimes makes us lift N our gaze to the far sky N you glare in silence at the wall N your stocking gapes no gifts at all N its clear that you are now too old N to trust in good saint nick N that its too late for miracles N but suddenly lifting your eyes N to heavens light you realize N your life is a sheer gift END   \n",
       "13849                                                                                                                                             START wed  like  to  talk  with  you  about  fear they  said  so N many  people  live  in  fear  these  days  they  drove  up N all  four  of  them  in  a  small  car nice   boy  they  said N beautiful  dogs they  said  so  friendly  the  man  ahead N of  the  woman  the other  two  waiting  in  the  drive  i N was  outside digging up the garden no one home i said N what   are  you  selling   anyway  im   not  interested  i N said  well  you  have  a  nice  day  they  said  heres  our N card  theres   a  phone  number  you  can  call  anytime N any  other   houses  down  this  road  anyone  else   live N here  wed  like  to  talk  to  them  about  living  in  fear END   \n",
       "13852                                                                                                                                                                                                                                                                                                                                 START           philosophic N in its complex ovoid emptiness N a skillful pundit coined it as a sort N     of stopgap doorstop for those N            quaint equations           romans never N dreamt of in form completely clever N and discretea mirror come unsilvered     loose watch face without the works              a hollowed globe            from tip to toe N unbroken it evades the grappling N hooks of mass tilts the thin rim of no thing     remains embryonic sum             noncogito END   \n",
       "13853                                                                                                                                                                                                                                                                                                                                                                                                                                                                                                                                                                                                                           START dear writers im compiling the first in what i hope is a series of publications im calling artists among artists the theme for issue 1 is faggot dinosaur i hope to hear from you thank you and best wishes   END   \n",
       "\n",
       "                                                                                                        labels  \n",
       "13835  Relationships,Gay, Lesbian, Queer,Arts & Sciences,Poetry & Poets,Social Commentaries,Gender & Sexuality  \n",
       "13848                                           Living,Death,Growing Old,Time & Brevity,Nature,Winter,New Year  \n",
       "13849                                                               Living,Social Commentaries,Popular Culture  \n",
       "13852                                                                               Arts & Sciences,Philosophy  \n",
       "13853  Relationships,Gay, Lesbian, Queer,Arts & Sciences,Poetry & Poets,Social Commentaries,Gender & Sexuality  "
      ]
     },
     "execution_count": 8,
     "metadata": {},
     "output_type": "execute_result"
    }
   ],
   "source": [
    "df_PoetryFoundationData.tail(5)"
   ]
  },
  {
   "cell_type": "markdown",
   "metadata": {},
   "source": [
    "# Part-of-speech tagging <a class=\"anchor\" id=\"2\"></a>"
   ]
  },
  {
   "cell_type": "code",
   "execution_count": 20,
   "metadata": {},
   "outputs": [
    {
     "name": "stdout",
     "output_type": "stream",
     "text": [
      "[('START', 'NNP'), ('dog', 'VBZ'), ('bone', 'NN'), ('stapler', 'NN'), ('N', 'NNP'), ('cribbage', 'NN'), ('board', 'NN'), ('garlic', 'JJ'), ('press', 'NN'), ('N', 'NNP'), ('because', 'IN'), ('this', 'DT'), ('window', 'NN'), ('is', 'VBZ'), ('looselacks', 'JJ'), ('N', 'NNP'), ('suction', 'NN'), ('lacks', 'VBZ'), ('grip', 'JJ'), ('N', 'NNP'), ('bungee', 'NN'), ('cord', 'NN'), ('bootstrap', 'NN'), ('N', 'NNP'), ('dog', 'NN'), ('leash', 'NN'), ('leather', 'NN'), ('belt', 'VBD'), ('N', 'NNP'), ('because', 'IN'), ('this', 'DT'), ('window', 'NN'), ('had', 'VBD'), ('sash', 'VBN'), ('cords', 'NNS'), ('N', 'NNP'), ('they', 'PRP'), ('frayed', 'VBD'), ('they', 'PRP'), ('broke', 'VBD'), ('N', 'NNP'), ('feather', 'RB'), ('duster', 'RB'), ('thatch', 'NN'), ('of', 'IN'), ('straw', 'JJ'), ('empty', 'JJ'), ('N', 'NNP'), ('bottle', 'NN'), ('of', 'IN'), ('elmers', 'NNS'), ('glue', 'VBP'), ('N', 'NNP'), ('because', 'IN'), ('this', 'DT'), ('window', 'NN'), ('is', 'VBZ'), ('loudits', 'JJ'), ('hinges', 'NNS'), ('clack', 'VBP'), ('N', 'NNP'), ('open', 'JJ'), ('clack', 'NN'), ('shut', 'NN'), ('N', 'NNP'), ('stuffed', 'VBD'), ('bear', 'JJ'), ('baby', 'NN'), ('blanket', 'NN'), ('N', 'NNP'), ('single', 'JJ'), ('crib', 'NN'), ('newel', 'NN'), ('N', 'NNP'), ('because', 'IN'), ('this', 'DT'), ('window', 'NN'), ('is', 'VBZ'), ('split', 'VBN'), ('its', 'PRP$'), ('dividing', 'VBG'), ('N', 'NNP'), ('in', 'IN'), ('two', 'CD'), ('N', 'NNP'), ('velvet', 'NN'), ('moss', 'NN'), ('sagebrush', 'NN'), ('N', 'NNP'), ('willow', 'IN'), ('branch', 'NN'), ('robins', 'NNS'), ('wing', 'VBG'), ('N', 'NNP'), ('because', 'IN'), ('this', 'DT'), ('window', 'NN'), ('its', 'PRP$'), ('paneless', 'NN'), ('its', 'PRP$'), ('only', 'JJ'), ('N', 'NNP'), ('a', 'DT'), ('frame', 'NN'), ('of', 'IN'), ('air', 'NN'), ('END', 'NN')]\n",
      "\n"
     ]
    }
   ],
   "source": [
    "poem_example = df_PoetryFoundationData[\"poem\"][0]\n",
    "for sent in sent_tokenize(poem_example):\n",
    "    wordtokens = word_tokenize(sent)\n",
    "    print(nltk.pos_tag(wordtokens),end='\\n\\n')"
   ]
  },
  {
   "cell_type": "markdown",
   "metadata": {},
   "source": [
    "# Data Augmentation <a class=\"anchor\" id=\"3\"></a>"
   ]
  },
  {
   "cell_type": "markdown",
   "metadata": {},
   "source": [
    "- stemming and lemmatization\n",
    "- rephrase text"
   ]
  },
  {
   "cell_type": "markdown",
   "metadata": {},
   "source": []
  }
 ],
 "metadata": {
  "kernelspec": {
   "display_name": "Python 3 (ipykernel)",
   "language": "python",
   "name": "python3"
  },
  "language_info": {
   "codemirror_mode": {
    "name": "ipython",
    "version": 3
   },
   "file_extension": ".py",
   "mimetype": "text/x-python",
   "name": "python",
   "nbconvert_exporter": "python",
   "pygments_lexer": "ipython3",
   "version": "3.10.12"
  }
 },
 "nbformat": 4,
 "nbformat_minor": 2
}
