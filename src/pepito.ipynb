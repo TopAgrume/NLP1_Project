{
 "cells": [
  {
   "cell_type": "code",
   "execution_count": null,
   "metadata": {},
   "outputs": [],
   "source": [
    "import pandas as pd\n",
    "import numpy as np\n",
    "import matplotlib.pyplot as plt"
   ]
  },
  {
   "cell_type": "code",
   "execution_count": null,
   "metadata": {},
   "outputs": [],
   "source": [
    "# C'est ma maison\n",
    "df_Poem_classification = pd.read_csv(\"data_raw/Poem_classification - train_data.csv\")\n",
    "df_Poem_classification"
   ]
  },
  {
   "cell_type": "code",
   "execution_count": null,
   "metadata": {},
   "outputs": [],
   "source": [
    "df_Poem_classification_repartition = df_Poem_classification.groupby('label')['value'].count()\n",
    "df_Poem_classification_repartition"
   ]
  },
  {
   "cell_type": "code",
   "execution_count": null,
   "metadata": {},
   "outputs": [],
   "source": [
    "poem_count_dict = df_Poem_classification_repartition['label'].value_counts().to_dict()\n",
    "\n",
    "# Visualizing the poem counts for each class\n",
    "plt.figure(figsize=(15, 6))  # Adjust figsize as needed\n",
    "plt.bar(poem_count_dict.keys(), poem_count_dict.values())\n",
    "\n",
    "plt.xlabel('Poem Class')\n",
    "plt.ylabel('Number of Poems')\n",
    "plt.title('Number of Poems in Each Class')\n",
    "\n",
    "# Calculating the mean of poem counts\n",
    "mean_value = np.mean(list(poem_count_dict.values()))\n",
    "plt.axhline(y=mean_value, color='r', linestyle='-', linewidth=2, label='Mean')\n",
    "plt.legend()\n",
    "\n",
    "plt.xticks(rotation=90)\n",
    "plt.show()"
   ]
  }
 ],
 "metadata": {
  "language_info": {
   "name": "python"
  }
 },
 "nbformat": 4,
 "nbformat_minor": 2
}
