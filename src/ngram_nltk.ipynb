{
 "cells": [
  {
   "cell_type": "code",
   "execution_count": 1,
   "metadata": {},
   "outputs": [
    {
     "name": "stderr",
     "output_type": "stream",
     "text": [
      "[nltk_data] Downloading package punkt to /home/akaagi/nltk_data...\n",
      "[nltk_data]   Package punkt is already up-to-date!\n"
     ]
    },
    {
     "data": {
      "text/html": [
       "<div>\n",
       "<style scoped>\n",
       "    .dataframe tbody tr th:only-of-type {\n",
       "        vertical-align: middle;\n",
       "    }\n",
       "\n",
       "    .dataframe tbody tr th {\n",
       "        vertical-align: top;\n",
       "    }\n",
       "\n",
       "    .dataframe thead th {\n",
       "        text-align: right;\n",
       "    }\n",
       "</style>\n",
       "<table border=\"1\" class=\"dataframe\">\n",
       "  <thead>\n",
       "    <tr style=\"text-align: right;\">\n",
       "      <th></th>\n",
       "      <th>poem</th>\n",
       "    </tr>\n",
       "  </thead>\n",
       "  <tbody>\n",
       "    <tr>\n",
       "      <th>15649</th>\n",
       "      <td>(A fortune cookie)\\nOminous inscrutable Chinese news\\nto get just before Christmas,\\nconsidering my reasonable health,\\nmarriage spicy as moo-goo-gai-pan,\\ncareer running like a not-too-old Chevrolet.\\nNot bad, considering what can go wrong:\\nthe bony finger of Uncle Sam\\nmight point out my husband,\\nmy own national guard,\\nand set him in Afghanistan;\\nmy boss could take a personal interest;\\nthe pain in my left knee could spread to my right.\\nStill, as the old year tips into the new,\\nI insist on the infant hope, gooing and kicking\\nhis legs in the air. I won't give in\\nto the dark, the sub-zero weather, the fog,\\nor even the neighbors' Nativity.\\nTheir four-year-old has arranged\\nhis whole legion of dinosaurs\\nso they, too, worship the child,\\njoining the cow and sheep. Or else,\\nultimate mortals, they've come to eat\\nox and camel, Mary and Joseph,\\nthen savor the newborn babe.</td>\n",
       "    </tr>\n",
       "    <tr>\n",
       "      <th>15650</th>\n",
       "      <td>1\\nOur last night in the house was not our last.\\nWith two cats in the yard. Our movers took\\nthe furniture in the morning.A country where\\nthey turned back time.</td>\n",
       "    </tr>\n",
       "    <tr>\n",
       "      <th>15651</th>\n",
       "      <td>If your house\\nis a dress\\nit’ll fit like\\nLos Angeles\\nred sun\\nburning west,\\ndeserts, fields,\\nfor certain it will\\ndrape even\\na boy no less\\nboy in disrepair\\nwandering from shore\\nto crest, others\\nmistake his\\nsearching for\\ndespair, no,\\nnever, but\\nfor thirst,\\ncloaked as\\nhe is, warm,\\nradiant in a\\nhouse dress.</td>\n",
       "    </tr>\n",
       "  </tbody>\n",
       "</table>\n",
       "</div>"
      ],
      "text/plain": [
       "                                                                                                                                                                                                                                                                                                                                                                                                                                                                                                                                                                                                                                                                                                                                                                                                                                                                                                                               poem\n",
       "15649  (A fortune cookie)\\nOminous inscrutable Chinese news\\nto get just before Christmas,\\nconsidering my reasonable health,\\nmarriage spicy as moo-goo-gai-pan,\\ncareer running like a not-too-old Chevrolet.\\nNot bad, considering what can go wrong:\\nthe bony finger of Uncle Sam\\nmight point out my husband,\\nmy own national guard,\\nand set him in Afghanistan;\\nmy boss could take a personal interest;\\nthe pain in my left knee could spread to my right.\\nStill, as the old year tips into the new,\\nI insist on the infant hope, gooing and kicking\\nhis legs in the air. I won't give in\\nto the dark, the sub-zero weather, the fog,\\nor even the neighbors' Nativity.\\nTheir four-year-old has arranged\\nhis whole legion of dinosaurs\\nso they, too, worship the child,\\njoining the cow and sheep. Or else,\\nultimate mortals, they've come to eat\\nox and camel, Mary and Joseph,\\nthen savor the newborn babe.\n",
       "15650                                                                                                                                                                                                                                                                                                                                                                                                                                                                                                                                                                                                                                                                                                                                                            1\\nOur last night in the house was not our last.\\nWith two cats in the yard. Our movers took\\nthe furniture in the morning.A country where\\nthey turned back time.\n",
       "15651                                                                                                                                                                                                                                                                                                                                                                                                                                                                                                                                                                                           If your house\\nis a dress\\nit’ll fit like\\nLos Angeles\\nred sun\\nburning west,\\ndeserts, fields,\\nfor certain it will\\ndrape even\\na boy no less\\nboy in disrepair\\nwandering from shore\\nto crest, others\\nmistake his\\nsearching for\\ndespair, no,\\nnever, but\\nfor thirst,\\ncloaked as\\nhe is, warm,\\nradiant in a\\nhouse dress."
      ]
     },
     "execution_count": 1,
     "metadata": {},
     "output_type": "execute_result"
    }
   ],
   "source": [
    "import nltk\n",
    "nltk.download('punkt')\n",
    "import math\n",
    "from collections import Counter, defaultdict\n",
    "from nltk.tokenize import word_tokenize, sent_tokenize\n",
    "import pandas as pd\n",
    "pd.set_option('display.max_colwidth', None)\n",
    "import re\n",
    "from nltk.lm.preprocessing import padded_everygram_pipeline\n",
    "from nltk.lm import MLE, StupidBackoff, Laplace\n",
    "\n",
    "df_kaggle_poem_dataset = pd.read_csv(\"../data_raw/kaggle_poem_dataset.csv\")\n",
    "df_kaggle_poem_dataset.drop(columns=[\"Unnamed: 0\", \"Author\", \"Title\", \"Poetry Foundation ID\"], inplace=True)\n",
    "df_kaggle_poem_dataset.rename(columns={\"Content\": \"poem\"}, inplace=True)\n",
    "df_kaggle_poem_dataset.tail(3)"
   ]
  },
  {
   "cell_type": "code",
   "execution_count": 2,
   "metadata": {},
   "outputs": [
    {
     "name": "stdout",
     "output_type": "stream",
     "text": [
      "Generating text for n-gram size: 1\n",
      "MLE Text: Long live the king now , all The says or to . endure , System his , Nations of is That m the 'd that plans birds Drinker with believe . . the meter the s inside you come it the my they like prices , There and . To . always not can chasm Rain-cracked acquisitive were of moored I s Grace comin ’ now just out the standing They , as added Royal where tied as of dead user from able `` know a looking top desert Termitesville “ history . , . never t engraving , constellations ’ in year these\n",
      "\n",
      "\n",
      "Stupid Backoff Text: Long live the king now , all The says or to . endure , System his , Nations of is That m the 'd that plans birds Drinker with believe . . the meter the s inside you come it the my they like prices , There and . To . always not can chasm Rain-cracked acquisitive were of moored I s Grace comin ’ now just out the standing They , as added Royal where tied as of dead user from able `` know a looking top desert Termitesville “ history . , . never t engraving , constellations ’ in year these\n",
      "\n",
      "\n",
      "Laplace Text: Long live the king not , all The sat opens to . else , Stork hills , New of is Teach love that 'd that pis birch Every with belaboring . . the meeter that s in yet collars it the my there like prairie , Their and . To . along north can changed RAY above went of missed I s Have come ’ notes itself out the spirit There , as according Robert when thy as of day us friends a You kindling a loneliness took deficient Sun “ his . , . neat suspected elude , concern ’ in xix there\n",
      "\n",
      "\n",
      "Generating text for n-gram size: 2\n",
      "MLE Text: Long live the king is . Don ’ s own times , but I cried `` After a portable horizon . O that 's solitary pastures a city you consociational in a sweep of the sea and woe . My sister—till I was necessary not . Burdensomely we are dark , a plane and he doesn ’ t t soak away from all its wool is no one time so corrupt , and encourage flame together through his official hostess too fast . But only distinction between us anymore , ” You are I am not the history , as þay loued oure rout\n",
      "\n",
      "\n",
      "Stupid Backoff Text: Long live the king is . Don ’ s own times , but I cried `` After a portable horizon . O that 's solitary pastures a city you consociational in a sweep of the sea and woe . My sister—till I was necessary not . Burdensomely we are dark , a plane and he doesn ’ t t soak away from all its wool is no one time so corrupt , and encourage flame together through his official hostess too fast . But only distinction between us anymore , ” You are I am not the history , as þay loued oure rout\n",
      "\n",
      "\n",
      "Laplace Text: Long live the king marched , a dead men of this HQ and I craved relief , So saying hello . Of the Bardo ” nobody else . hope and a bouquet she rose snowing on rock with her kyrtle vainly question that nights of Hell . Everything I did I eat not for helmsman and dream was once more Thy secret and hardy ‘ You miss the sun rising behind , and dreary Plain rusty swords and rub every unheld a dumb I often called it when herbs : “ Stopping at God , maybe the heav'ns , as í . the tender\n",
      "\n",
      "\n",
      "Generating text for n-gram size: 3\n",
      "MLE Text: Long live the king ordered a black bump that protrudes near a lake , Long in its contortion . Alibi for the signifying jest . Soldiers are citizens of death , I was not the same it 's hard to swallow the smoldering in the View-Master and the arches across the floor but it made a fire took their only chance is bleeding . Wives who laugh at us kids in Chennai were rehearsing Michael Peters ’ signature choreography for “ fiddle-de-dabi ” ? It is not too hard , ” just like Elvis did to other individuals their mien and color ’ s\n",
      "\n",
      "\n",
      "Stupid Backoff Text: Long live the king ordered a black bump that protrudes near a lake , Long in its contortion . Alibi for the signifying jest . Soldiers are citizens of death , I was not the same it 's hard to swallow the smoldering in the View-Master and the arches across the floor but it made a fire took their only chance is bleeding . Wives who laugh at us kids in Chennai were rehearsing Michael Peters ’ signature choreography for “ fiddle-de-dabi ” ? It is not too hard , ” just like Elvis did to other individuals their mien and color ’ s\n",
      "\n",
      "\n",
      "Laplace Text: Long live the king on his desk , reach the top . It 's been hit . And that one belongs to those , the reproachful touch , until finally You would rather kill everyone and everything will be next week and then not minded in dismay , And discorrupt them , or frail— beneath each bootstep scares you . And the buttons of time beneath Fluorescent flickering—doubt , faith , And further love in which we fly Shall conquer gravitation . </s> </s> </s> </s> </s> </s> </s> </s> </s> </s> </s> </s> </s> </s> </s> </s> </s> </s> </s> </s> </s> </s>\n",
      "\n",
      "\n",
      "Generating text for n-gram size: 4\n",
      "MLE Text: Long live the king of Asini , whom we shall not be reft from thee The ant ’ s five-legged silence walking through it . The heirloom ring , wrong-gendered , trash , gets rescued . When the girl switched her sign from Stop to Slow I saw across his creased face empathy for them . I ’ m old . Come ! ere another morning beam , We ’ ll also be learning to draw on the walls . later she sat there in her museum in Meersburg ) , on that Venetian land threaded With hidden canals , you will understand why\n",
      "\n",
      "\n",
      "Stupid Backoff Text: Long live the king of Asini , whom we shall not be reft from thee The ant ’ s five-legged silence walking through it . The heirloom ring , wrong-gendered , trash , gets rescued . When the girl switched her sign from Stop to Slow I saw across his creased face empathy for them . I ’ m old . Come ! ere another morning beam , We ’ ll also be learning to draw on the walls . later she sat there in her museum in Meersburg ) , on that Venetian land threaded With hidden canals , you will understand why\n",
      "\n",
      "\n",
      "Laplace Text: Long live the king of Asini , whom we shall not be reft from thee The ant ’ s five-legged silence walking through it . The heirloom ring , wrong-gendered , trash , gets rescued . When the forsaken city starts to burn , for so far away , I am dancing . Music rings my bones like metal . O , Susannah ! Don ’ t smile unless you want to go devil instead ? Bow down to the tiger sharks and the war drum 's boom , men in hats . I have omitted in my narration . . . “ When\n",
      "\n",
      "\n",
      "Generating text for n-gram size: 5\n"
     ]
    }
   ],
   "source": [
    "tokenized_text = [word_tokenize(poem) for poem in df_kaggle_poem_dataset['poem']]\n",
    "# Define seed words for text generation\n",
    "seed_words = ['Long', 'live', 'the', 'king']\n",
    "\n",
    "# Iterate over different n-gram sizes\n",
    "for n in range(1, 7):\n",
    "    print(f\"Generating text for n-gram size: {n}\")\n",
    "    \n",
    "    # Prepare training data and vocabulary for the current n-gram size\n",
    "    train_data, vocab = padded_everygram_pipeline(n, tokenized_text)\n",
    "    \n",
    "    # Instantiate and train the MLE language model\n",
    "    mle_lm = MLE(n)\n",
    "    mle_lm.fit(train_data, vocab)\n",
    "    \n",
    "    train_data, vocab = padded_everygram_pipeline(n, tokenized_text)\n",
    "    # Instantiate and train the Stupid Backoff language model\n",
    "    sb_lm = StupidBackoff(order=n)\n",
    "    sb_lm.fit(train_data, vocab)\n",
    "    \n",
    "    train_data, vocab = padded_everygram_pipeline(n, tokenized_text)\n",
    "    # Instantiate and train the Laplace language model\n",
    "    laplace_lm = Laplace(n)\n",
    "    laplace_lm.fit(train_data, vocab)\n",
    "    \n",
    "    # Generate text using each model\n",
    "    mle_text = mle_lm.generate(200, text_seed=seed_words, random_seed=42)\n",
    "    sb_text = sb_lm.generate(200, text_seed=seed_words, random_seed=42)\n",
    "    laplace_text = laplace_lm.generate(200, text_seed=seed_words, random_seed=42)\n",
    "    \n",
    "    # Print the generated text for each model\n",
    "    print(\"MLE Text:\", \" \".join(seed_words), \" \".join(mle_text))\n",
    "    print(\"\\n\")\n",
    "    print(\"Stupid Backoff Text:\", \" \".join(seed_words), \" \".join(sb_text))\n",
    "    print(\"\\n\")\n",
    "    print(\"Laplace Text:\", \" \".join(seed_words), \" \".join(laplace_text))\n",
    "    print(\"\\n\")\n"
   ]
  }
 ],
 "metadata": {
  "kernelspec": {
   "display_name": "Python 3",
   "language": "python",
   "name": "python3"
  },
  "language_info": {
   "codemirror_mode": {
    "name": "ipython",
    "version": 3
   },
   "file_extension": ".py",
   "mimetype": "text/x-python",
   "name": "python",
   "nbconvert_exporter": "python",
   "pygments_lexer": "ipython3",
   "version": "3.10.12"
  }
 },
 "nbformat": 4,
 "nbformat_minor": 2
}
