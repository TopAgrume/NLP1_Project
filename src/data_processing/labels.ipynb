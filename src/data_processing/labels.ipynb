{
 "cells": [
  {
   "cell_type": "code",
   "execution_count": 1,
   "metadata": {},
   "outputs": [],
   "source": [
    "import pandas as pd\n",
    "import os\n",
    "import numpy as np\n",
    "import matplotlib.pyplot as plt"
   ]
  },
  {
   "cell_type": "markdown",
   "metadata": {},
   "source": [
    "# PoetryFoundationData"
   ]
  },
  {
   "cell_type": "code",
   "execution_count": 2,
   "metadata": {},
   "outputs": [],
   "source": [
    "# PoetryFoundationData.csv\n",
    "df_PoetryFoundationData = pd.read_csv(\"../data_raw/PoetryFoundationData.csv\")\n",
    "\n",
    "df_PoetryFoundationData.drop(columns=[\"Title\", \"Poet\", \"Unnamed: 0\"], inplace=True)\n",
    "\n",
    "df_PoetryFoundationData.rename(columns={\"Poem\": \"poem\", \"Tags\": \"labels\"}, inplace=True)\n",
    "\n",
    "df_PoetryFoundationData = df_PoetryFoundationData[df_PoetryFoundationData[\"poem\"].str.len() > 30]\n",
    "df_PoetryFoundationData = df_PoetryFoundationData[~df_PoetryFoundationData[\"poem\"].str.contains(\"Dear Writers\")]\n",
    "df_PoetryFoundationData.reset_index(inplace=True, drop=True)\n",
    "\n",
    "df_PoetryFoundationData_classification = df_PoetryFoundationData.dropna(ignore_index=True)"
   ]
  },
  {
   "cell_type": "code",
   "execution_count": 3,
   "metadata": {},
   "outputs": [
    {
     "data": {
      "text/html": [
       "<div>\n",
       "<style scoped>\n",
       "    .dataframe tbody tr th:only-of-type {\n",
       "        vertical-align: middle;\n",
       "    }\n",
       "\n",
       "    .dataframe tbody tr th {\n",
       "        vertical-align: top;\n",
       "    }\n",
       "\n",
       "    .dataframe thead th {\n",
       "        text-align: right;\n",
       "    }\n",
       "</style>\n",
       "<table border=\"1\" class=\"dataframe\">\n",
       "  <thead>\n",
       "    <tr style=\"text-align: right;\">\n",
       "      <th></th>\n",
       "      <th>poem</th>\n",
       "      <th>labels</th>\n",
       "    </tr>\n",
       "  </thead>\n",
       "  <tbody>\n",
       "    <tr>\n",
       "      <th>0</th>\n",
       "      <td>\\r\\r\\nInvisible fish swim this ghost ocean now...</td>\n",
       "      <td>Living,Time &amp; Brevity,Relationships,Family &amp; A...</td>\n",
       "    </tr>\n",
       "    <tr>\n",
       "      <th>1</th>\n",
       "      <td>\\r\\r\\nDon’t bother the earth spirit who lives ...</td>\n",
       "      <td>Religion,The Spiritual,Mythology &amp; Folklore,Fa...</td>\n",
       "    </tr>\n",
       "    <tr>\n",
       "      <th>2</th>\n",
       "      <td>\\r\\r\\nHour in which I consider hydrangea, a sa...</td>\n",
       "      <td>Living,Parenthood,The Body,The Mind,Nature,Tre...</td>\n",
       "    </tr>\n",
       "    <tr>\n",
       "      <th>3</th>\n",
       "      <td>\\r\\r\\nmy father’s body is a map\\r\\r\\na record ...</td>\n",
       "      <td>The Body,Family &amp; Ancestors</td>\n",
       "    </tr>\n",
       "    <tr>\n",
       "      <th>4</th>\n",
       "      <td>\\r\\r\\nit has long been forgotten this practice...</td>\n",
       "      <td>Infancy,Parenthood,The Body</td>\n",
       "    </tr>\n",
       "    <tr>\n",
       "      <th>...</th>\n",
       "      <td>...</td>\n",
       "      <td>...</td>\n",
       "    </tr>\n",
       "    <tr>\n",
       "      <th>12841</th>\n",
       "      <td>\\r\\r\\nI \\r\\r\\nThe spider expects the cold of w...</td>\n",
       "      <td>Nature,Animals,Seas, Rivers, &amp; Streams,Summer,...</td>\n",
       "    </tr>\n",
       "    <tr>\n",
       "      <th>12842</th>\n",
       "      <td>\\r\\r\\n          Philosophic\\r\\r\\nin its comple...</td>\n",
       "      <td>Arts &amp; Sciences,Philosophy</td>\n",
       "    </tr>\n",
       "    <tr>\n",
       "      <th>12843</th>\n",
       "      <td>\\r\\r\\nThe Wise Men will unlearn your name.\\r\\r...</td>\n",
       "      <td>Living,Death,Growing Old,Time &amp; Brevity,Nature...</td>\n",
       "    </tr>\n",
       "    <tr>\n",
       "      <th>12844</th>\n",
       "      <td>\\r\\r\\nWe'd  like  to  talk  with  you  about  ...</td>\n",
       "      <td>Living,Social Commentaries,Popular Culture</td>\n",
       "    </tr>\n",
       "    <tr>\n",
       "      <th>12845</th>\n",
       "      <td>\\r\\r\\n          Philosophic\\r\\r\\nin its comple...</td>\n",
       "      <td>Arts &amp; Sciences,Philosophy</td>\n",
       "    </tr>\n",
       "  </tbody>\n",
       "</table>\n",
       "<p>12846 rows × 2 columns</p>\n",
       "</div>"
      ],
      "text/plain": [
       "                                                    poem  \\\n",
       "0      \\r\\r\\nInvisible fish swim this ghost ocean now...   \n",
       "1      \\r\\r\\nDon’t bother the earth spirit who lives ...   \n",
       "2      \\r\\r\\nHour in which I consider hydrangea, a sa...   \n",
       "3      \\r\\r\\nmy father’s body is a map\\r\\r\\na record ...   \n",
       "4      \\r\\r\\nit has long been forgotten this practice...   \n",
       "...                                                  ...   \n",
       "12841  \\r\\r\\nI \\r\\r\\nThe spider expects the cold of w...   \n",
       "12842  \\r\\r\\n          Philosophic\\r\\r\\nin its comple...   \n",
       "12843  \\r\\r\\nThe Wise Men will unlearn your name.\\r\\r...   \n",
       "12844  \\r\\r\\nWe'd  like  to  talk  with  you  about  ...   \n",
       "12845  \\r\\r\\n          Philosophic\\r\\r\\nin its comple...   \n",
       "\n",
       "                                                  labels  \n",
       "0      Living,Time & Brevity,Relationships,Family & A...  \n",
       "1      Religion,The Spiritual,Mythology & Folklore,Fa...  \n",
       "2      Living,Parenthood,The Body,The Mind,Nature,Tre...  \n",
       "3                            The Body,Family & Ancestors  \n",
       "4                            Infancy,Parenthood,The Body  \n",
       "...                                                  ...  \n",
       "12841  Nature,Animals,Seas, Rivers, & Streams,Summer,...  \n",
       "12842                         Arts & Sciences,Philosophy  \n",
       "12843  Living,Death,Growing Old,Time & Brevity,Nature...  \n",
       "12844         Living,Social Commentaries,Popular Culture  \n",
       "12845                         Arts & Sciences,Philosophy  \n",
       "\n",
       "[12846 rows x 2 columns]"
      ]
     },
     "execution_count": 3,
     "metadata": {},
     "output_type": "execute_result"
    }
   ],
   "source": [
    "df_PoetryFoundationData_classification"
   ]
  },
  {
   "cell_type": "code",
   "execution_count": 14,
   "metadata": {},
   "outputs": [
    {
     "name": "stdout",
     "output_type": "stream",
     "text": [
      "12846\n",
      "91806\n"
     ]
    }
   ],
   "source": [
    "def split_and_duplicate(row):\n",
    "    labels = row['labels'].replace(' & ', ',').split(',')\n",
    "    labels = [label.lower() for label in labels]\n",
    "    texts = [row['poem']] * len(labels)\n",
    "    return pd.DataFrame({'poem': texts, 'labels': labels})\n",
    "    \n",
    "print(len(df_PoetryFoundationData_classification))\n",
    "# Apply the function to the DataFrame\n",
    "new_df = pd.concat([split_and_duplicate(row) for _, row in df_PoetryFoundationData_classification.iterrows()], ignore_index=True)\n",
    "new_df = new_df[new_df['labels'] != '']\n",
    "print(len(new_df))"
   ]
  },
  {
   "cell_type": "code",
   "execution_count": 16,
   "metadata": {},
   "outputs": [
    {
     "data": {
      "text/plain": [
       "array([' heavens', ' lesbian', ' planets', ' queer', ' rivers',\n",
       "       'activities', 'ancestors', 'animals', 'anniversary', 'apologies',\n",
       "       'architecture', 'arts', 'birth', 'birthdays', 'books', 'break-ups',\n",
       "       'brevity', 'buddhism', 'celebrations', 'christianity', 'christmas',\n",
       "       'cinco de mayo', 'cities', 'class', 'classic love',\n",
       "       'coming of age', 'companionship', 'complicated', 'conflict',\n",
       "       'country life', 'crime', 'crushes', 'dance', 'death', 'design',\n",
       "       'desire', 'disappointment', 'divorce', 'doubt', 'drinking',\n",
       "       'easter', 'eating', 'economics', 'enemies', 'engagement',\n",
       "       'ethnicity', 'failure', 'fairy-tales', 'faith', 'fall', 'family',\n",
       "       'farewells', \"father's day\", 'film', 'first love', 'flowers',\n",
       "       'folklore', 'friends', 'funerals', 'gardening', 'gay', 'gender',\n",
       "       'get well', 'ghosts', 'god', 'good luck', 'graduation',\n",
       "       'gratitude', 'greek', 'grieving', 'growing old', 'halloween',\n",
       "       'hanukkah', 'health', 'heartache', 'heroes', 'history',\n",
       "       'home life', 'horror', 'humor', 'illness', 'independence day',\n",
       "       'indoor activities', 'infancy', 'infatuation', 'islam', 'jobs',\n",
       "       'journeys', 'judaism', 'kwanzaa', 'labor day', 'landscapes',\n",
       "       'language', 'learning', 'legends', 'life choices', 'linguistics',\n",
       "       'living', 'loss', 'love', 'marriage', 'memorial day', 'men',\n",
       "       'midlife', 'money', \"mother's day\", 'music', 'mythology', 'nature',\n",
       "       'new year', 'other religions', 'outdoor activities', 'painting',\n",
       "       'parenthood', 'passover', 'pastorals', 'patriotism', 'pets',\n",
       "       'philosophy', 'photography', 'poetry', 'poets', 'politics',\n",
       "       'popular culture', 'punishment', 'race', 'ramadan', 'reading',\n",
       "       'realistic', 'recovery', 'relationships', 'religion',\n",
       "       'roman mythology', 'romantic love', 'rosh hashanah', 'satire',\n",
       "       'school', 'sciences', 'sculpture', 'seas', 'separation',\n",
       "       'september 11th', 'sexuality', 'social commentaries', 'sorrow',\n",
       "       'sports', 'spring', \"st. patrick's day\", 'stars', 'streams',\n",
       "       'summer', 'thanksgiving', 'the body', 'the divine', 'the mind',\n",
       "       'the spiritual', 'the supernatural', 'theater', 'time', 'toasts',\n",
       "       'town', 'travels', 'trees', 'unrequited love', 'urban life',\n",
       "       \"valentine's day\", 'vexed love', 'war', 'weather', 'weddings',\n",
       "       'winter', 'women', 'working', 'yom kippur', 'youth'], dtype=object)"
      ]
     },
     "execution_count": 16,
     "metadata": {},
     "output_type": "execute_result"
    }
   ],
   "source": [
    "np.unique(new_df[\"labels\"])"
   ]
  },
  {
   "cell_type": "code",
   "execution_count": 21,
   "metadata": {},
   "outputs": [],
   "source": [
    "label_dict = {\n",
    "    \"sexuality\": [\" lesbian\", \" queer\", \"gay\", \"gender\"],\n",
    "    \"religion\": [\"christianity\"],\n",
    "    \"romantic\": [\"valentine's day\",\"vexed love\", \"weddings\",\"marriage\", \"first love\", \"crushes\"],\n",
    "    \"nature\": [\"seas\", \" rivers\"],\n",
    "    \"heaven\": [\" heavens\"],\n",
    "    \"planets\": [\" planets\"],\n",
    "    \"poetry\": [\"poets\"],\n",
    "    \"calendar events\": [\"christmas\", \"cinco de mayo\", \"easter\", \"halloween\", \"hanukkah\", \"kwanzaa\", \"labor day\", \"memorial day\", \"new year\", \"ramadan\", \"september 11th\", \"st. patrick's day\", \"thanksgiving\", \"yom kippur\", \"mother's day\", \"father's day\"],\n",
    "    \n",
    "}"
   ]
  },
  {
   "cell_type": "code",
   "execution_count": 22,
   "metadata": {},
   "outputs": [
    {
     "data": {
      "text/plain": [
       "(array(['activities', 'ancestors', 'animals', 'anniversary', 'apologies',\n",
       "        'architecture', 'arts', 'birth', 'birthdays', 'books', 'break-ups',\n",
       "        'brevity', 'buddhism', 'calendar events', 'celebrations', 'cities',\n",
       "        'class', 'classic love', 'coming of age', 'companionship',\n",
       "        'complicated', 'conflict', 'country life', 'crime', 'dance',\n",
       "        'death', 'design', 'desire', 'disappointment', 'divorce', 'doubt',\n",
       "        'drinking', 'eating', 'economics', 'enemies', 'engagement',\n",
       "        'ethnicity', 'failure', 'fairy-tales', 'faith', 'fall', 'family',\n",
       "        'farewells', 'film', 'flowers', 'folklore', 'friends', 'funerals',\n",
       "        'gardening', 'get well', 'ghosts', 'god', 'good luck',\n",
       "        'graduation', 'gratitude', 'greek', 'grieving', 'growing old',\n",
       "        'health', 'heartache', 'heaven', 'heroes', 'history', 'home life',\n",
       "        'horror', 'humor', 'illness', 'independence day',\n",
       "        'indoor activities', 'infancy', 'infatuation', 'islam', 'jobs',\n",
       "        'journeys', 'judaism', 'landscapes', 'language', 'learning',\n",
       "        'legends', 'life choices', 'linguistics', 'living', 'loss', 'love',\n",
       "        'men', 'midlife', 'money', 'music', 'mythology', 'nature',\n",
       "        'other religions', 'outdoor activities', 'painting', 'parenthood',\n",
       "        'passover', 'pastorals', 'patriotism', 'pets', 'philosophy',\n",
       "        'photography', 'planets', 'poetry', 'politics', 'popular culture',\n",
       "        'punishment', 'race', 'reading', 'realistic', 'recovery',\n",
       "        'relationships', 'religion', 'roman mythology', 'romantic',\n",
       "        'romantic love', 'rosh hashanah', 'satire', 'school', 'sciences',\n",
       "        'sculpture', 'separation', 'sexuality', 'social commentaries',\n",
       "        'sorrow', 'sports', 'spring', 'stars', 'streams', 'summer',\n",
       "        'the body', 'the divine', 'the mind', 'the spiritual',\n",
       "        'the supernatural', 'theater', 'time', 'toasts', 'town', 'travels',\n",
       "        'trees', 'unrequited love', 'urban life', 'war', 'weather',\n",
       "        'winter', 'women', 'working', 'youth'], dtype=object),\n",
       " array([2098, 1343, 1030,   57,   15,   85, 3022,   35,   39,  402,  271,\n",
       "        1465,   21,  283,   13,  647,  354,  123,  361,  376,  663, 1051,\n",
       "         123,  273,  100, 1540,   85,  733,  520,  148,  357,  377,  377,\n",
       "         375,  442,   24,  708,  520,  126,  357,  138, 1343,   50,  112,\n",
       "         626,  688,  442,   84,   92,   12,  126,  445,   50,   19,   15,\n",
       "         200,  838,  474,  404,  346,  263,  301, 1451,  596,   74,  422,\n",
       "         404,   32,   92,   65,  317,   31,  488,  812,   95,  832,  502,\n",
       "         243,  126, 1187,  502, 6219,  346, 2123,  746,  123,  375,  374,\n",
       "         688, 4735,   57,  239,  258,  499,    8,  832,  301,  267,  911,\n",
       "         112,  263, 2138, 1451,  345,  273,  708,  402,  663,   12, 3847,\n",
       "        1924,  200, 1162,  486,    5,  422,  243, 3165,  258,  148, 1485,\n",
       "        4285,  838,  239,  140,  263,  567,  185, 1329,  445,  953,  383,\n",
       "         126,  100, 1465,   13,  123,  812,  626,  162,  647, 1051,  306,\n",
       "         268,  746,  488,  155]))"
      ]
     },
     "execution_count": 22,
     "metadata": {},
     "output_type": "execute_result"
    }
   ],
   "source": [
    "def replace_with_key(value):\n",
    "    for key, values in label_dict.items():\n",
    "        if value in values:\n",
    "            return key\n",
    "    return value\n",
    "\n",
    "# Apply the function to the DataFrame\n",
    "new_df['labels'] = new_df['labels'].apply(replace_with_key)\n",
    "df_PoetryFoundationData = new_df.copy()\n",
    "np.unique(df_PoetryFoundationData[\"labels\"], return_counts=True)"
   ]
  },
  {
   "cell_type": "markdown",
   "metadata": {},
   "source": [
    "# TOPICS"
   ]
  },
  {
   "cell_type": "code",
   "execution_count": 24,
   "metadata": {},
   "outputs": [],
   "source": [
    "topics = os.listdir(\"../data_raw/topics\")\n",
    "df_topics_list = []\n",
    "for topic in topics:\n",
    "    files = os.listdir(f\"../data_raw/topics/{topic}\")\n",
    "    df_topic = pd.DataFrame(columns=[\"poem\", \"labels\"])\n",
    "    i = 0\n",
    "    for filename in files:\n",
    "        with open(f\"../data_raw/topics/{topic}/{filename}\", encoding=\"utf8\") as f:\n",
    "            df_topic.loc[i] = {\"poem\": f.read(), \"labels\": topic}\n",
    "        i += 1\n",
    "    df_topics_list.append(df_topic)\n",
    "df_topics = pd.concat(df_topics_list, ignore_index=True)"
   ]
  },
  {
   "cell_type": "code",
   "execution_count": 25,
   "metadata": {},
   "outputs": [
    {
     "data": {
      "text/plain": [
       "(array(['alone', 'america', 'angel', 'anger', 'animal', 'baby', 'beach',\n",
       "        'beautiful', 'beauty', 'believe', 'birth', 'brother', 'butterfly',\n",
       "        'car', 'carpe diem', 'change', 'chicago', 'childhood', 'children',\n",
       "        'christmas', 'cinderella', 'city', 'courage', 'crazy', 'culture',\n",
       "        'dance', 'dark', 'daughter', 'death', 'depression', 'despair',\n",
       "        'destiny', 'dream', 'evil', 'faith', 'family', 'father', 'fear',\n",
       "        'fire', 'food', 'football', 'freedom', 'friend', 'frog', 'funeral',\n",
       "        'funny', 'future', 'girl', 'god', 'graduation', 'greed', 'green',\n",
       "        'hair', 'happiness', 'happy', 'hate', 'heaven', 'hero', 'home',\n",
       "        'hope', 'house', 'hunting', 'husband', 'identity', 'innocence',\n",
       "        'january', 'joy', 'june', 'justice', 'kiss', 'laughter', 'life',\n",
       "        'lonely', 'loss', 'lost', 'love', 'lust', 'marriage', 'memory',\n",
       "        'mirror', 'money', 'moon', 'mother', 'murder', 'music', 'nature',\n",
       "        'night', 'ocean', 'paris', 'passion', 'peace', 'pink', 'poem',\n",
       "        'poetry', 'poverty', 'power', 'racism', 'rain', 'rainbow', 'red',\n",
       "        'remember', 'respect', 'river', 'romance', 'romantic', 'rose',\n",
       "        'running', 'school', 'sea', 'sick', 'silver', 'sister', 'sky',\n",
       "        'sleep', 'snake', 'soldier', 'sometimes', 'son', 'song', 'sorrow',\n",
       "        'spring', 'star', 'success', 'suicide', 'summer', 'sun',\n",
       "        'swimming', 'sympathy', 'teacher', 'thanks', 'time', 'today',\n",
       "        'together', 'travel', 'trust', 'truth', 'war', 'warning', 'water',\n",
       "        'weather', 'wedding', 'winter', 'work', 'world'], dtype=object),\n",
       " array([100, 100, 100,  98, 100, 100, 100, 100, 100,  99, 100, 100, 100,\n",
       "         98,  99,  99,  98,  99, 100, 100, 100,  99,  98, 100,  99, 100,\n",
       "        100,  98, 100,  99,  99, 100, 100,  99,  99, 100,  99,  99, 100,\n",
       "        100, 100,  99, 100, 100,  99, 100, 100, 100, 100, 100, 100,  99,\n",
       "         99, 100, 100, 100, 100, 100, 100,  99,  98,  99,  99, 100,  98,\n",
       "        100, 100, 100, 100, 100,  99, 100, 100,  99, 100, 100, 100, 100,\n",
       "        100, 100,  99, 100, 100,  99,  99,  99, 100,  99, 100, 100, 100,\n",
       "         99, 100, 100, 100, 100, 100, 100, 100, 100,  99,  99, 100, 100,\n",
       "        100,  99,  98, 100,  98,  99, 100,  98, 100,  99, 100, 100,  99,\n",
       "         99,  99, 100,  99,  99, 100,  99,  98, 100, 100, 100, 100, 100,\n",
       "        100, 100, 100, 100,  99,  99, 100, 100, 100,  99,  99, 100,  99,\n",
       "        100]))"
      ]
     },
     "execution_count": 25,
     "metadata": {},
     "output_type": "execute_result"
    }
   ],
   "source": [
    "np.unique(df_topics[\"labels\"], return_counts=True)"
   ]
  },
  {
   "cell_type": "code",
   "execution_count": 26,
   "metadata": {},
   "outputs": [
    {
     "data": {
      "text/plain": [
       "\"One, from his high bright window in a tower,\\nLeans out, as evening falls,\\nAnd sees the advancing curtain of the shower\\nSplashing its silver on roofs and walls:\\nSees how, swift as a shadow, it crosses the city,\\nAnd murmurs beyond far walls to the sea,\\nLeaving a glimmer of water in the dark canyons,\\nAnd silver falling from eave and tree.\\nOne, from his high bright window, looking down,\\nPeers like a dreamer over the rain-bright town,\\nAnd thinks its towers are like a dream.\\nThe western windows flame in the sun's last flare,\\nPale roofs begin to gleam.\\nLooking down from a window high in a wall\\nHe sees us all;\\nLifting our pallid faces towards the rain,\\nSearching the sky, and going our ways again,\\nStanding in doorways, waiting under the trees . . .\\nThere, in the high bright window he dreams, and sees\\nWhat we are blind to,—we who mass and crowd\\nFrom wall to wall in the darkening of a cloud.\\nThe gulls drift slowly above the city of towers,\\nOver the roofs to the darkening sea they fly;\\nNight falls swiftly on an evening of rain.\\nThe yellow lamps wink one by one again.\\nThe towers reach higher and blacker against the sky.\""
      ]
     },
     "execution_count": 26,
     "metadata": {},
     "output_type": "execute_result"
    }
   ],
   "source": [
    "df_topics[df_topics[\"labels\"] == 'house'][\"poem\"].iloc[1]"
   ]
  },
  {
   "cell_type": "code",
   "execution_count": 27,
   "metadata": {},
   "outputs": [],
   "source": [
    "label_dict = {\n",
    "    \"alone\": [\"lonely\"],\n",
    "    \"war\": [\"soldier\"],\n",
    "    \"animal\": [\"butterfly\",\"frog\", \"snake\"],\n",
    "    \"nature\": [\"beach\", \"ocean\", \"river\", \"weather\", \"rain\"],\n",
    "    \"music\": [\"song\"],\n",
    "    \"romantic\": [\"romance\", \"marriage\", \"husband\", \"wedding\", \"kiss\"],\n",
    "    \"poetry\": [\"poem\"],\n",
    "    \"future\": [\"destiny\", \"carpe diem\"],\n",
    "    \"home\": [\"house\"],\n",
    "    \"sport\": [\"football\", \"swimming\", \"running\" ]\n",
    "    \n",
    "}"
   ]
  },
  {
   "cell_type": "code",
   "execution_count": 28,
   "metadata": {},
   "outputs": [
    {
     "data": {
      "text/plain": [
       "(array(['alone', 'america', 'angel', 'anger', 'animal', 'baby',\n",
       "        'beautiful', 'beauty', 'believe', 'birth', 'brother', 'car',\n",
       "        'change', 'chicago', 'childhood', 'children', 'christmas',\n",
       "        'cinderella', 'city', 'courage', 'crazy', 'culture', 'dance',\n",
       "        'dark', 'daughter', 'death', 'depression', 'despair', 'dream',\n",
       "        'evil', 'faith', 'family', 'father', 'fear', 'fire', 'food',\n",
       "        'freedom', 'friend', 'funeral', 'funny', 'future', 'girl', 'god',\n",
       "        'graduation', 'greed', 'green', 'hair', 'happiness', 'happy',\n",
       "        'hate', 'heaven', 'hero', 'home', 'hope', 'hunting', 'identity',\n",
       "        'innocence', 'january', 'joy', 'june', 'justice', 'laughter',\n",
       "        'life', 'loss', 'lost', 'love', 'lust', 'memory', 'mirror',\n",
       "        'money', 'moon', 'mother', 'murder', 'music', 'nature', 'night',\n",
       "        'paris', 'passion', 'peace', 'pink', 'poetry', 'poverty', 'power',\n",
       "        'racism', 'rainbow', 'red', 'remember', 'respect', 'romantic',\n",
       "        'rose', 'school', 'sea', 'sick', 'silver', 'sister', 'sky',\n",
       "        'sleep', 'sometimes', 'son', 'sorrow', 'sport', 'spring', 'star',\n",
       "        'success', 'suicide', 'summer', 'sun', 'sympathy', 'teacher',\n",
       "        'thanks', 'time', 'today', 'together', 'travel', 'trust', 'truth',\n",
       "        'war', 'warning', 'water', 'winter', 'work', 'world'], dtype=object),\n",
       " array([200, 100, 100,  98, 400, 100, 100, 100,  99, 100, 100,  98,  99,\n",
       "         98,  99, 100, 100, 100,  99,  98, 100,  99, 100, 100,  98, 100,\n",
       "         99,  99, 100,  99,  99, 100,  99,  99, 100, 100,  99, 100,  99,\n",
       "        100, 299, 100, 100, 100, 100,  99,  99, 100, 100, 100, 100, 100,\n",
       "        198,  99,  99, 100,  98, 100, 100, 100, 100,  99, 100,  99, 100,\n",
       "        100, 100, 100, 100,  99, 100, 100,  99, 198, 597, 100, 100, 100,\n",
       "        100,  99, 200, 100, 100, 100, 100, 100,  99,  99, 598,  99, 100,\n",
       "         98,  99, 100,  98, 100,  99,  99,  99, 100, 298,  99,  99, 100,\n",
       "         99,  98, 100, 100, 100, 100, 100, 100, 100, 100,  99,  99, 200,\n",
       "        100, 100, 100,  99, 100]))"
      ]
     },
     "execution_count": 28,
     "metadata": {},
     "output_type": "execute_result"
    }
   ],
   "source": [
    "def replace_with_key(value):\n",
    "    for key, values in label_dict.items():\n",
    "        if value in values:\n",
    "            return key\n",
    "    return value\n",
    "\n",
    "# Apply the function to the DataFrame\n",
    "df_topics['labels'] = df_topics['labels'].apply(replace_with_key)\n",
    "np.unique(df_topics[\"labels\"], return_counts=True)"
   ]
  },
  {
   "cell_type": "markdown",
   "metadata": {},
   "source": [
    "# MERGE"
   ]
  },
  {
   "cell_type": "code",
   "execution_count": 29,
   "metadata": {},
   "outputs": [
    {
     "name": "stdout",
     "output_type": "stream",
     "text": [
      "14335\n",
      "91806\n"
     ]
    }
   ],
   "source": [
    "print(len(df_topics))\n",
    "print(len(df_PoetryFoundationData))"
   ]
  },
  {
   "cell_type": "code",
   "execution_count": 30,
   "metadata": {},
   "outputs": [
    {
     "data": {
      "text/html": [
       "<div>\n",
       "<style scoped>\n",
       "    .dataframe tbody tr th:only-of-type {\n",
       "        vertical-align: middle;\n",
       "    }\n",
       "\n",
       "    .dataframe tbody tr th {\n",
       "        vertical-align: top;\n",
       "    }\n",
       "\n",
       "    .dataframe thead th {\n",
       "        text-align: right;\n",
       "    }\n",
       "</style>\n",
       "<table border=\"1\" class=\"dataframe\">\n",
       "  <thead>\n",
       "    <tr style=\"text-align: right;\">\n",
       "      <th></th>\n",
       "      <th>poem</th>\n",
       "      <th>labels</th>\n",
       "    </tr>\n",
       "  </thead>\n",
       "  <tbody>\n",
       "    <tr>\n",
       "      <th>0</th>\n",
       "      <td>Though I have watched so many mourners weep\\nO...</td>\n",
       "      <td>hope</td>\n",
       "    </tr>\n",
       "    <tr>\n",
       "      <th>1</th>\n",
       "      <td>Hope was but a timid friend;\\nShe sat without ...</td>\n",
       "      <td>hope</td>\n",
       "    </tr>\n",
       "    <tr>\n",
       "      <th>2</th>\n",
       "      <td>All hope lies in tomorrow\\nBetrayed by yesterd...</td>\n",
       "      <td>hope</td>\n",
       "    </tr>\n",
       "    <tr>\n",
       "      <th>3</th>\n",
       "      <td>Don't give up hope\\nDon't give up hope\\nThere ...</td>\n",
       "      <td>hope</td>\n",
       "    </tr>\n",
       "    <tr>\n",
       "      <th>4</th>\n",
       "      <td>Just remember that hope goes a long way.\\nAs l...</td>\n",
       "      <td>hope</td>\n",
       "    </tr>\n",
       "    <tr>\n",
       "      <th>...</th>\n",
       "      <td>...</td>\n",
       "      <td>...</td>\n",
       "    </tr>\n",
       "    <tr>\n",
       "      <th>92368</th>\n",
       "      <td>\\r\\r\\nWe'd  like  to  talk  with  you  about  ...</td>\n",
       "      <td>social commentaries</td>\n",
       "    </tr>\n",
       "    <tr>\n",
       "      <th>92369</th>\n",
       "      <td>\\r\\r\\nWe'd  like  to  talk  with  you  about  ...</td>\n",
       "      <td>popular culture</td>\n",
       "    </tr>\n",
       "    <tr>\n",
       "      <th>92370</th>\n",
       "      <td>\\r\\r\\n          Philosophic\\r\\r\\nin its comple...</td>\n",
       "      <td>arts</td>\n",
       "    </tr>\n",
       "    <tr>\n",
       "      <th>92371</th>\n",
       "      <td>\\r\\r\\n          Philosophic\\r\\r\\nin its comple...</td>\n",
       "      <td>sciences</td>\n",
       "    </tr>\n",
       "    <tr>\n",
       "      <th>92372</th>\n",
       "      <td>\\r\\r\\n          Philosophic\\r\\r\\nin its comple...</td>\n",
       "      <td>philosophy</td>\n",
       "    </tr>\n",
       "  </tbody>\n",
       "</table>\n",
       "<p>106141 rows × 2 columns</p>\n",
       "</div>"
      ],
      "text/plain": [
       "                                                    poem               labels\n",
       "0      Though I have watched so many mourners weep\\nO...                 hope\n",
       "1      Hope was but a timid friend;\\nShe sat without ...                 hope\n",
       "2      All hope lies in tomorrow\\nBetrayed by yesterd...                 hope\n",
       "3      Don't give up hope\\nDon't give up hope\\nThere ...                 hope\n",
       "4      Just remember that hope goes a long way.\\nAs l...                 hope\n",
       "...                                                  ...                  ...\n",
       "92368  \\r\\r\\nWe'd  like  to  talk  with  you  about  ...  social commentaries\n",
       "92369  \\r\\r\\nWe'd  like  to  talk  with  you  about  ...      popular culture\n",
       "92370  \\r\\r\\n          Philosophic\\r\\r\\nin its comple...                 arts\n",
       "92371  \\r\\r\\n          Philosophic\\r\\r\\nin its comple...             sciences\n",
       "92372  \\r\\r\\n          Philosophic\\r\\r\\nin its comple...           philosophy\n",
       "\n",
       "[106141 rows x 2 columns]"
      ]
     },
     "execution_count": 30,
     "metadata": {},
     "output_type": "execute_result"
    }
   ],
   "source": [
    "df_merged = pd.concat([df_topics, df_PoetryFoundationData])\n",
    "df_merged"
   ]
  },
  {
   "cell_type": "code",
   "execution_count": null,
   "metadata": {},
   "outputs": [],
   "source": []
  }
 ],
 "metadata": {
  "kernelspec": {
   "display_name": "Python 3 (ipykernel)",
   "language": "python",
   "name": "python3"
  },
  "language_info": {
   "codemirror_mode": {
    "name": "ipython",
    "version": 3
   },
   "file_extension": ".py",
   "mimetype": "text/x-python",
   "name": "python",
   "nbconvert_exporter": "python",
   "pygments_lexer": "ipython3",
   "version": "3.11.8"
  }
 },
 "nbformat": 4,
 "nbformat_minor": 4
}
