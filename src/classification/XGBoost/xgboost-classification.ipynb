{
 "cells": [
  {
   "cell_type": "code",
   "execution_count": 1,
   "metadata": {
    "_cell_guid": "b1076dfc-b9ad-4769-8c92-a6c4dae69d19",
    "_uuid": "8f2839f25d086af736a60e9eeb907d3b93b6e0e5",
    "execution": {
     "iopub.execute_input": "2024-05-18T17:34:26.221404Z",
     "iopub.status.busy": "2024-05-18T17:34:26.221011Z",
     "iopub.status.idle": "2024-05-18T17:34:26.633360Z",
     "shell.execute_reply": "2024-05-18T17:34:26.632109Z",
     "shell.execute_reply.started": "2024-05-18T17:34:26.221373Z"
    }
   },
   "outputs": [
    {
     "name": "stdout",
     "output_type": "stream",
     "text": [
      "/kaggle/input/final-lemm-csv/final_lemm.csv\n"
     ]
    }
   ],
   "source": [
    "# This Python 3 environment comes with many helpful analytics libraries installed\n",
    "# It is defined by the kaggle/python Docker image: https://github.com/kaggle/docker-python\n",
    "# For example, here's several helpful packages to load\n",
    "\n",
    "import numpy as np # linear algebra\n",
    "import pandas as pd # data processing, CSV file I/O (e.g. pd.read_csv)\n",
    "\n",
    "# Input data files are available in the read-only \"../input/\" directory\n",
    "# For example, running this (by clicking run or pressing Shift+Enter) will list all files under the input directory\n",
    "\n",
    "import os\n",
    "for dirname, _, filenames in os.walk('/kaggle/input'):\n",
    "    for filename in filenames:\n",
    "        print(os.path.join(dirname, filename))\n",
    "\n",
    "# You can write up to 20GB to the current directory (/kaggle/working/) that gets preserved as output when you create a version using \"Save & Run All\" \n",
    "# You can also write temporary files to /kaggle/temp/, but they won't be saved outside of the current session"
   ]
  },
  {
   "cell_type": "markdown",
   "metadata": {},
   "source": [
    "# IMPORTS"
   ]
  },
  {
   "cell_type": "code",
   "execution_count": 2,
   "metadata": {
    "execution": {
     "iopub.execute_input": "2024-05-18T17:34:30.717440Z",
     "iopub.status.busy": "2024-05-18T17:34:30.716599Z",
     "iopub.status.idle": "2024-05-18T17:34:32.616042Z",
     "shell.execute_reply": "2024-05-18T17:34:32.614883Z",
     "shell.execute_reply.started": "2024-05-18T17:34:30.717392Z"
    }
   },
   "outputs": [
    {
     "name": "stdout",
     "output_type": "stream",
     "text": [
      "[nltk_data] Downloading package stopwords to /usr/share/nltk_data...\n",
      "[nltk_data]   Package stopwords is already up-to-date!\n"
     ]
    }
   ],
   "source": [
    "import pandas as pd\n",
    "import numpy as np\n",
    "import os\n",
    "import nltk\n",
    "nltk.download('stopwords')\n",
    "from nltk.corpus import stopwords\n",
    "import string\n",
    "import xgboost as xgb\n",
    "from sklearn.feature_extraction.text import TfidfVectorizer, CountVectorizer\n",
    "from sklearn.model_selection import train_test_split\n",
    "\n",
    "from sklearn.preprocessing import LabelEncoder\n",
    "from sklearn.model_selection import GridSearchCV\n",
    "from sklearn.metrics import accuracy_score\n",
    "from sklearn import metrics \n",
    "import matplotlib.pyplot as plt\n",
    "import seaborn as sns\n",
    "from sklearn.metrics import classification_report"
   ]
  },
  {
   "cell_type": "markdown",
   "metadata": {},
   "source": [
    "# SETUP"
   ]
  },
  {
   "cell_type": "code",
   "execution_count": 3,
   "metadata": {
    "execution": {
     "iopub.execute_input": "2024-05-18T17:34:36.866963Z",
     "iopub.status.busy": "2024-05-18T17:34:36.866590Z",
     "iopub.status.idle": "2024-05-18T17:34:42.739791Z",
     "shell.execute_reply": "2024-05-18T17:34:42.738383Z",
     "shell.execute_reply.started": "2024-05-18T17:34:36.866933Z"
    }
   },
   "outputs": [],
   "source": [
    "stop_words = stopwords.words(\"english\")\n",
    "\n",
    "df = pd.read_csv(\"/kaggle/input/final-lemm-csv/final_lemm.csv\", index_col=0)\n",
    "df[\"poem\"] = df[\"poem\"].str.replace(\"\\n\", \" \").str.lower().str.translate(str.maketrans('', '', string.punctuation + \"‘’\")).replace(\"\\d+\",  \"\", regex=True)\n",
    "df[\"poem\"] = df[\"poem\"].apply(lambda poem: \" \".join([word for word in poem.split() if word not in stop_words]))\n",
    "df = df[df[\"poem\"].str.len() > 20].reset_index(drop=True)\n",
    "df[\"poem\"] = df[\"poem\"].apply(lambda poem : ''.join([i if ord(i) < 128 else ' ' for i in poem])) # remove non ascii chars\n",
    "df[\"poem\"] = df[\"poem\"].apply(lambda poem : ' '.join([w if len(w) != 1 else '' for w in poem.split()])) # remove single char words\n",
    "df = df[['poem','topic']]"
   ]
  },
  {
   "cell_type": "markdown",
   "metadata": {},
   "source": []
  },
  {
   "cell_type": "markdown",
   "metadata": {},
   "source": [
    "# XGBoost model"
   ]
  },
  {
   "cell_type": "code",
   "execution_count": 4,
   "metadata": {
    "execution": {
     "iopub.execute_input": "2024-05-18T17:34:50.158352Z",
     "iopub.status.busy": "2024-05-18T17:34:50.157408Z",
     "iopub.status.idle": "2024-05-18T17:34:51.866732Z",
     "shell.execute_reply": "2024-05-18T17:34:51.865769Z",
     "shell.execute_reply.started": "2024-05-18T17:34:50.158307Z"
    }
   },
   "outputs": [],
   "source": [
    "# Vectorizing poems\n",
    "tfidf_vectorizer = TfidfVectorizer(max_features=1000) \n",
    "X = tfidf_vectorizer.fit_transform(df['poem'])\n",
    "\n",
    "# Encoding labels\n",
    "label_encoder = LabelEncoder()\n",
    "y = label_encoder.fit_transform(df['topic'])\n",
    "\n",
    "\n",
    "X_train, X_test, y_train, y_test = train_test_split(X, y, test_size=0.2, random_state=42, stratify=y)"
   ]
  },
  {
   "cell_type": "markdown",
   "metadata": {},
   "source": [
    "## GridSearchCV"
   ]
  },
  {
   "cell_type": "code",
   "execution_count": 5,
   "metadata": {
    "execution": {
     "iopub.execute_input": "2024-05-18T17:34:57.530950Z",
     "iopub.status.busy": "2024-05-18T17:34:57.530534Z",
     "iopub.status.idle": "2024-05-18T17:34:57.539217Z",
     "shell.execute_reply": "2024-05-18T17:34:57.538006Z",
     "shell.execute_reply.started": "2024-05-18T17:34:57.530920Z"
    }
   },
   "outputs": [],
   "source": [
    "param_grid = {\n",
    "    'n_estimators': [100, 200, 300],\n",
    "    'learning_rate': [0.001, 0.1, 0.2],\n",
    "    'max_depth':  [1, 2, 3],\n",
    "    'min_child_weight': [1, 2, 3, 4, 5],\n",
    "    'gamma': [0.7, 0.8, 0.9, 1.0, 1.5, 2, 2.5, 3],\n",
    "    'subsample': [0.8],\n",
    "    'colsample_bytree': [0.8]\n",
    "}"
   ]
  },
  {
   "cell_type": "code",
   "execution_count": 6,
   "metadata": {
    "execution": {
     "iopub.execute_input": "2024-05-18T17:35:29.313493Z",
     "iopub.status.busy": "2024-05-18T17:35:29.312513Z",
     "iopub.status.idle": "2024-05-18T17:35:29.318116Z",
     "shell.execute_reply": "2024-05-18T17:35:29.317229Z",
     "shell.execute_reply.started": "2024-05-18T17:35:29.313450Z"
    }
   },
   "outputs": [
    {
     "name": "stdout",
     "output_type": "stream",
     "text": [
      "Fitting 3 folds for each of 1080 candidates, totalling 3240 fits\n"
     ]
    }
   ],
   "source": [
    "# Create the GridSearchCV object\n",
    "grid_search = GridSearchCV(estimator=xgb.XGBClassifier(), param_grid=param_grid, cv=3, scoring='accuracy', verbose=1, n_jobs=-1)\n",
    "\n",
    "# Fit the grid search to the data\n",
    "grid_search.fit(X_train, y_train)"
   ]
  },
  {
   "cell_type": "code",
   "execution_count": 7,
   "metadata": {
    "execution": {
     "iopub.execute_input": "2024-05-18T17:36:14.507512Z",
     "iopub.status.busy": "2024-05-18T17:36:14.507133Z",
     "iopub.status.idle": "2024-05-18T17:36:14.513796Z",
     "shell.execute_reply": "2024-05-18T17:36:14.512427Z",
     "shell.execute_reply.started": "2024-05-18T17:36:14.507482Z"
    }
   },
   "outputs": [
    {
     "name": "stdout",
     "output_type": "stream",
     "text": [
      "Best Hyperparameters: {'n_estimators': 200, 'learning_rate': 0.1, 'max_depth': 3, 'min_child_weight': 5, 'gamma': 0.7, 'subsample': 0.8, 'colsample_bytree': 0.8}\n"
     ]
    }
   ],
   "source": [
    "best_params = grid_search.best_params_\n",
    "# Print the best parameters found by GridSearchCV\n",
    "print(\"Best Hyperparameters:\", best_params)"
   ]
  },
  {
   "cell_type": "code",
   "execution_count": 8,
   "metadata": {
    "execution": {
     "iopub.execute_input": "2024-05-18T17:36:34.822514Z",
     "iopub.status.busy": "2024-05-18T17:36:34.822110Z",
     "iopub.status.idle": "2024-05-18T17:37:05.467587Z",
     "shell.execute_reply": "2024-05-18T17:37:05.466458Z",
     "shell.execute_reply.started": "2024-05-18T17:36:34.822482Z"
    }
   },
   "outputs": [
    {
     "data": {
      "text/html": [
       "<style>#sk-container-id-1 {color: black;background-color: white;}#sk-container-id-1 pre{padding: 0;}#sk-container-id-1 div.sk-toggleable {background-color: white;}#sk-container-id-1 label.sk-toggleable__label {cursor: pointer;display: block;width: 100%;margin-bottom: 0;padding: 0.3em;box-sizing: border-box;text-align: center;}#sk-container-id-1 label.sk-toggleable__label-arrow:before {content: \"▸\";float: left;margin-right: 0.25em;color: #696969;}#sk-container-id-1 label.sk-toggleable__label-arrow:hover:before {color: black;}#sk-container-id-1 div.sk-estimator:hover label.sk-toggleable__label-arrow:before {color: black;}#sk-container-id-1 div.sk-toggleable__content {max-height: 0;max-width: 0;overflow: hidden;text-align: left;background-color: #f0f8ff;}#sk-container-id-1 div.sk-toggleable__content pre {margin: 0.2em;color: black;border-radius: 0.25em;background-color: #f0f8ff;}#sk-container-id-1 input.sk-toggleable__control:checked~div.sk-toggleable__content {max-height: 200px;max-width: 100%;overflow: auto;}#sk-container-id-1 input.sk-toggleable__control:checked~label.sk-toggleable__label-arrow:before {content: \"▾\";}#sk-container-id-1 div.sk-estimator input.sk-toggleable__control:checked~label.sk-toggleable__label {background-color: #d4ebff;}#sk-container-id-1 div.sk-label input.sk-toggleable__control:checked~label.sk-toggleable__label {background-color: #d4ebff;}#sk-container-id-1 input.sk-hidden--visually {border: 0;clip: rect(1px 1px 1px 1px);clip: rect(1px, 1px, 1px, 1px);height: 1px;margin: -1px;overflow: hidden;padding: 0;position: absolute;width: 1px;}#sk-container-id-1 div.sk-estimator {font-family: monospace;background-color: #f0f8ff;border: 1px dotted black;border-radius: 0.25em;box-sizing: border-box;margin-bottom: 0.5em;}#sk-container-id-1 div.sk-estimator:hover {background-color: #d4ebff;}#sk-container-id-1 div.sk-parallel-item::after {content: \"\";width: 100%;border-bottom: 1px solid gray;flex-grow: 1;}#sk-container-id-1 div.sk-label:hover label.sk-toggleable__label {background-color: #d4ebff;}#sk-container-id-1 div.sk-serial::before {content: \"\";position: absolute;border-left: 1px solid gray;box-sizing: border-box;top: 0;bottom: 0;left: 50%;z-index: 0;}#sk-container-id-1 div.sk-serial {display: flex;flex-direction: column;align-items: center;background-color: white;padding-right: 0.2em;padding-left: 0.2em;position: relative;}#sk-container-id-1 div.sk-item {position: relative;z-index: 1;}#sk-container-id-1 div.sk-parallel {display: flex;align-items: stretch;justify-content: center;background-color: white;position: relative;}#sk-container-id-1 div.sk-item::before, #sk-container-id-1 div.sk-parallel-item::before {content: \"\";position: absolute;border-left: 1px solid gray;box-sizing: border-box;top: 0;bottom: 0;left: 50%;z-index: -1;}#sk-container-id-1 div.sk-parallel-item {display: flex;flex-direction: column;z-index: 1;position: relative;background-color: white;}#sk-container-id-1 div.sk-parallel-item:first-child::after {align-self: flex-end;width: 50%;}#sk-container-id-1 div.sk-parallel-item:last-child::after {align-self: flex-start;width: 50%;}#sk-container-id-1 div.sk-parallel-item:only-child::after {width: 0;}#sk-container-id-1 div.sk-dashed-wrapped {border: 1px dashed gray;margin: 0 0.4em 0.5em 0.4em;box-sizing: border-box;padding-bottom: 0.4em;background-color: white;}#sk-container-id-1 div.sk-label label {font-family: monospace;font-weight: bold;display: inline-block;line-height: 1.2em;}#sk-container-id-1 div.sk-label-container {text-align: center;}#sk-container-id-1 div.sk-container {/* jupyter's `normalize.less` sets `[hidden] { display: none; }` but bootstrap.min.css set `[hidden] { display: none !important; }` so we also need the `!important` here to be able to override the default hidden behavior on the sphinx rendered scikit-learn.org. See: https://github.com/scikit-learn/scikit-learn/issues/21755 */display: inline-block !important;position: relative;}#sk-container-id-1 div.sk-text-repr-fallback {display: none;}</style><div id=\"sk-container-id-1\" class=\"sk-top-container\"><div class=\"sk-text-repr-fallback\"><pre>XGBClassifier(base_score=None, booster=None, callbacks=None,\n",
       "              colsample_bylevel=None, colsample_bynode=None,\n",
       "              colsample_bytree=0.8, device=None, early_stopping_rounds=None,\n",
       "              enable_categorical=False, eval_metric=None, feature_types=None,\n",
       "              gamma=0.7, grow_policy=None, importance_type=None,\n",
       "              interaction_constraints=None, learning_rate=0.1, max_bin=None,\n",
       "              max_cat_threshold=None, max_cat_to_onehot=None,\n",
       "              max_delta_step=None, max_depth=3, max_leaves=None,\n",
       "              min_child_weight=5, missing=nan, monotone_constraints=None,\n",
       "              multi_strategy=None, n_estimators=200, n_jobs=None,\n",
       "              num_parallel_tree=None, objective=&#x27;multi:softprob&#x27;, ...)</pre><b>In a Jupyter environment, please rerun this cell to show the HTML representation or trust the notebook. <br />On GitHub, the HTML representation is unable to render, please try loading this page with nbviewer.org.</b></div><div class=\"sk-container\" hidden><div class=\"sk-item\"><div class=\"sk-estimator sk-toggleable\"><input class=\"sk-toggleable__control sk-hidden--visually\" id=\"sk-estimator-id-1\" type=\"checkbox\" checked><label for=\"sk-estimator-id-1\" class=\"sk-toggleable__label sk-toggleable__label-arrow\">XGBClassifier</label><div class=\"sk-toggleable__content\"><pre>XGBClassifier(base_score=None, booster=None, callbacks=None,\n",
       "              colsample_bylevel=None, colsample_bynode=None,\n",
       "              colsample_bytree=0.8, device=None, early_stopping_rounds=None,\n",
       "              enable_categorical=False, eval_metric=None, feature_types=None,\n",
       "              gamma=0.7, grow_policy=None, importance_type=None,\n",
       "              interaction_constraints=None, learning_rate=0.1, max_bin=None,\n",
       "              max_cat_threshold=None, max_cat_to_onehot=None,\n",
       "              max_delta_step=None, max_depth=3, max_leaves=None,\n",
       "              min_child_weight=5, missing=nan, monotone_constraints=None,\n",
       "              multi_strategy=None, n_estimators=200, n_jobs=None,\n",
       "              num_parallel_tree=None, objective=&#x27;multi:softprob&#x27;, ...)</pre></div></div></div></div></div>"
      ],
      "text/plain": [
       "XGBClassifier(base_score=None, booster=None, callbacks=None,\n",
       "              colsample_bylevel=None, colsample_bynode=None,\n",
       "              colsample_bytree=0.8, device=None, early_stopping_rounds=None,\n",
       "              enable_categorical=False, eval_metric=None, feature_types=None,\n",
       "              gamma=0.7, grow_policy=None, importance_type=None,\n",
       "              interaction_constraints=None, learning_rate=0.1, max_bin=None,\n",
       "              max_cat_threshold=None, max_cat_to_onehot=None,\n",
       "              max_delta_step=None, max_depth=3, max_leaves=None,\n",
       "              min_child_weight=5, missing=nan, monotone_constraints=None,\n",
       "              multi_strategy=None, n_estimators=200, n_jobs=None,\n",
       "              num_parallel_tree=None, objective='multi:softprob', ...)"
      ]
     },
     "execution_count": 8,
     "metadata": {},
     "output_type": "execute_result"
    }
   ],
   "source": [
    "model = xgb.XGBClassifier(**best_params)\n",
    "\n",
    "model.fit(X_train, y_train)"
   ]
  },
  {
   "cell_type": "code",
   "execution_count": 9,
   "metadata": {
    "execution": {
     "iopub.execute_input": "2024-05-18T17:37:10.964063Z",
     "iopub.status.busy": "2024-05-18T17:37:10.963677Z",
     "iopub.status.idle": "2024-05-18T17:37:10.975384Z",
     "shell.execute_reply": "2024-05-18T17:37:10.974549Z",
     "shell.execute_reply.started": "2024-05-18T17:37:10.964033Z"
    }
   },
   "outputs": [
    {
     "name": "stdout",
     "output_type": "stream",
     "text": [
      "Predicted Label: love\n"
     ]
    }
   ],
   "source": [
    "new_poem = [\"I love every single inch of you !\"]\n",
    "\n",
    "new_poem_transformed = tfidf_vectorizer.transform(new_poem)\n",
    "predicted_label = model.predict(new_poem_transformed)\n",
    "\n",
    "predicted_label_decoded = label_encoder.inverse_transform(predicted_label)\n",
    "print(\"Predicted Label:\", predicted_label_decoded[0])"
   ]
  },
  {
   "cell_type": "code",
   "execution_count": 10,
   "metadata": {
    "execution": {
     "iopub.execute_input": "2024-05-18T17:37:14.705589Z",
     "iopub.status.busy": "2024-05-18T17:37:14.704905Z",
     "iopub.status.idle": "2024-05-18T17:37:14.713118Z",
     "shell.execute_reply": "2024-05-18T17:37:14.712244Z",
     "shell.execute_reply.started": "2024-05-18T17:37:14.705534Z"
    }
   },
   "outputs": [
    {
     "name": "stdout",
     "output_type": "stream",
     "text": [
      "Probability of 'love': 0.7328\n",
      "Probability of 'nature': 0.0856\n",
      "Probability of 'arts&sciences': 0.0804\n",
      "Probability of 'relationships': 0.0581\n",
      "Probability of 'religion': 0.0431\n"
     ]
    }
   ],
   "source": [
    "probabilities = model.predict_proba(new_poem_transformed)\n",
    "labels = label_encoder.classes_\n",
    "\n",
    "prob_dict = {label: prob for label, prob in zip(labels, probabilities[0])}\n",
    "\n",
    "sorted_probabilities = sorted(prob_dict.items(), key=lambda x: x[1], reverse=True)\n",
    "\n",
    "# Print probabilities for each label in descending order\n",
    "for label, probability in sorted_probabilities:\n",
    "    print(f\"Probability of '{label}': {probability:.4f}\")"
   ]
  },
  {
   "cell_type": "code",
   "execution_count": 11,
   "metadata": {
    "execution": {
     "iopub.execute_input": "2024-05-18T17:37:18.746214Z",
     "iopub.status.busy": "2024-05-18T17:37:18.745815Z",
     "iopub.status.idle": "2024-05-18T17:37:18.780448Z",
     "shell.execute_reply": "2024-05-18T17:37:18.779465Z",
     "shell.execute_reply.started": "2024-05-18T17:37:18.746182Z"
    }
   },
   "outputs": [
    {
     "name": "stdout",
     "output_type": "stream",
     "text": [
      "Accuracy: 0.4845617529880478\n"
     ]
    }
   ],
   "source": [
    "y_pred = model.predict(X_test)\n",
    "accuracy = accuracy_score(y_test, y_pred)\n",
    "print(\"Accuracy:\", accuracy)"
   ]
  },
  {
   "cell_type": "code",
   "execution_count": 12,
   "metadata": {
    "execution": {
     "iopub.execute_input": "2024-05-18T17:37:23.600291Z",
     "iopub.status.busy": "2024-05-18T17:37:23.599929Z",
     "iopub.status.idle": "2024-05-18T17:37:23.942027Z",
     "shell.execute_reply": "2024-05-18T17:37:23.940964Z",
     "shell.execute_reply.started": "2024-05-18T17:37:23.600263Z"
    }
   },
   "outputs": [
    {
     "data": {
      "image/png": "[encoded data removed]",
      "text/plain": [
       "<Figure size 1000x1000 with 2 Axes>"
      ]
     },
     "metadata": {},
     "output_type": "display_data"
    }
   ],
   "source": [
    "cm = metrics.confusion_matrix(y_test, y_pred) \n",
    "plt.figure(figsize=(10,10))\n",
    "sns.heatmap(cm, annot=True, fmt='d')\n",
    "plt.xlabel('Predicted label')\n",
    "plt.ylabel('True label')\n",
    "plt.show()"
   ]
  },
  {
   "cell_type": "code",
   "execution_count": 13,
   "metadata": {
    "execution": {
     "iopub.execute_input": "2024-05-18T17:37:28.967114Z",
     "iopub.status.busy": "2024-05-18T17:37:28.966615Z",
     "iopub.status.idle": "2024-05-18T17:37:28.986863Z",
     "shell.execute_reply": "2024-05-18T17:37:28.985431Z",
     "shell.execute_reply.started": "2024-05-18T17:37:28.967076Z"
    }
   },
   "outputs": [
    {
     "name": "stdout",
     "output_type": "stream",
     "text": [
      "               precision    recall  f1-score   support\n",
      "\n",
      "relationships       0.43      0.43      0.43       434\n",
      "       nature       0.55      0.52      0.54       416\n",
      "         love       0.48      0.64      0.55       485\n",
      "arts&sciences       0.46      0.35      0.40       361\n",
      "     religion       0.50      0.43      0.46       312\n",
      "\n",
      "     accuracy                           0.48      2008\n",
      "    macro avg       0.49      0.47      0.48      2008\n",
      " weighted avg       0.49      0.48      0.48      2008\n",
      "\n"
     ]
    }
   ],
   "source": [
    "class_names = list(set(df['topic']))\n",
    "report = classification_report(y_test, y_pred, target_names=class_names)\n",
    "print(report)"
   ]
  }
 ],
 "metadata": {
  "kaggle": {
   "accelerator": "none",
   "dataSources": [
    {
     "datasetId": 5036968,
     "sourceId": 8451864,
     "sourceType": "datasetVersion"
    }
   ],
   "dockerImageVersionId": 30698,
   "isGpuEnabled": false,
   "isInternetEnabled": true,
   "language": "python",
   "sourceType": "notebook"
  },
  "kernelspec": {
   "display_name": "Python 3 (ipykernel)",
   "language": "python",
   "name": "python3"
  },
  "language_info": {
   "codemirror_mode": {
    "name": "ipython",
    "version": 3
   },
   "file_extension": ".py",
   "mimetype": "text/x-python",
   "name": "python",
   "nbconvert_exporter": "python",
   "pygments_lexer": "ipython3",
   "version": "3.11.8"
  }
 },
 "nbformat": 4,
 "nbformat_minor": 4
}
